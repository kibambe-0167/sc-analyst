{
 "cells": [
  {
   "cell_type": "code",
   "execution_count": 1,
   "metadata": {},
   "outputs": [
    {
     "name": "stderr",
     "output_type": "stream",
     "text": [
      "/var/folders/0r/13xz5g6j45589319bn94k47w0000gn/T/ipykernel_47581/4080736814.py:1: DeprecationWarning: \n",
      "Pyarrow will become a required dependency of pandas in the next major release of pandas (pandas 3.0),\n",
      "(to allow more performant data types, such as the Arrow string type, and better interoperability with other libraries)\n",
      "but was not found to be installed on your system.\n",
      "If this would cause problems for you,\n",
      "please provide us feedback at https://github.com/pandas-dev/pandas/issues/54466\n",
      "        \n",
      "  import pandas as pd\n"
     ]
    }
   ],
   "source": [
    "import pandas as pd"
   ]
  },
  {
   "cell_type": "code",
   "execution_count": 2,
   "metadata": {},
   "outputs": [
    {
     "data": {
      "text/html": [
       "<div>\n",
       "<style scoped>\n",
       "    .dataframe tbody tr th:only-of-type {\n",
       "        vertical-align: middle;\n",
       "    }\n",
       "\n",
       "    .dataframe tbody tr th {\n",
       "        vertical-align: top;\n",
       "    }\n",
       "\n",
       "    .dataframe thead th {\n",
       "        text-align: right;\n",
       "    }\n",
       "</style>\n",
       "<table border=\"1\" class=\"dataframe\">\n",
       "  <thead>\n",
       "    <tr style=\"text-align: right;\">\n",
       "      <th></th>\n",
       "      <th>facility_id</th>\n",
       "      <th>postal_code</th>\n",
       "    </tr>\n",
       "  </thead>\n",
       "  <tbody>\n",
       "    <tr>\n",
       "      <th>0</th>\n",
       "      <td>018a932e-eb07-7b94-9a2e-57c49789d242</td>\n",
       "      <td>0699</td>\n",
       "    </tr>\n",
       "    <tr>\n",
       "      <th>1</th>\n",
       "      <td>018a932e-ed02-7d06-8729-9dcf46b16ec6</td>\n",
       "      <td>0699</td>\n",
       "    </tr>\n",
       "    <tr>\n",
       "      <th>2</th>\n",
       "      <td>018a932e-ed91-7d99-a93f-a848baea846c</td>\n",
       "      <td>0699</td>\n",
       "    </tr>\n",
       "    <tr>\n",
       "      <th>3</th>\n",
       "      <td>018a932e-ee1d-7e27-b06c-275953125398</td>\n",
       "      <td>0699</td>\n",
       "    </tr>\n",
       "    <tr>\n",
       "      <th>4</th>\n",
       "      <td>018a932e-ee68-7e6d-9c5e-b7b4ceede07b</td>\n",
       "      <td>0699</td>\n",
       "    </tr>\n",
       "    <tr>\n",
       "      <th>...</th>\n",
       "      <td>...</td>\n",
       "      <td>...</td>\n",
       "    </tr>\n",
       "    <tr>\n",
       "      <th>5952</th>\n",
       "      <td>018b4259-3122-778a-ab7d-0651920de669</td>\n",
       "      <td>1684</td>\n",
       "    </tr>\n",
       "    <tr>\n",
       "      <th>5953</th>\n",
       "      <td>018a9332-6aeb-7589-9950-0b8a306e731f</td>\n",
       "      <td>6017</td>\n",
       "    </tr>\n",
       "    <tr>\n",
       "      <th>5954</th>\n",
       "      <td>018a932e-eefb-7f05-a459-21e0e8bac70b</td>\n",
       "      <td>7945</td>\n",
       "    </tr>\n",
       "    <tr>\n",
       "      <th>5955</th>\n",
       "      <td>018a932e-f124-70fc-b2d1-1399450e1608</td>\n",
       "      <td>8001</td>\n",
       "    </tr>\n",
       "    <tr>\n",
       "      <th>5956</th>\n",
       "      <td>018a932e-f89e-77a9-bd67-0195484c32b6</td>\n",
       "      <td>7460</td>\n",
       "    </tr>\n",
       "  </tbody>\n",
       "</table>\n",
       "<p>5957 rows × 2 columns</p>\n",
       "</div>"
      ],
      "text/plain": [
       "                               facility_id postal_code\n",
       "0     018a932e-eb07-7b94-9a2e-57c49789d242        0699\n",
       "1     018a932e-ed02-7d06-8729-9dcf46b16ec6        0699\n",
       "2     018a932e-ed91-7d99-a93f-a848baea846c        0699\n",
       "3     018a932e-ee1d-7e27-b06c-275953125398        0699\n",
       "4     018a932e-ee68-7e6d-9c5e-b7b4ceede07b        0699\n",
       "...                                    ...         ...\n",
       "5952  018b4259-3122-778a-ab7d-0651920de669        1684\n",
       "5953  018a9332-6aeb-7589-9950-0b8a306e731f        6017\n",
       "5954  018a932e-eefb-7f05-a459-21e0e8bac70b        7945\n",
       "5955  018a932e-f124-70fc-b2d1-1399450e1608        8001\n",
       "5956  018a932e-f89e-77a9-bd67-0195484c32b6        7460\n",
       "\n",
       "[5957 rows x 2 columns]"
      ]
     },
     "execution_count": 2,
     "metadata": {},
     "output_type": "execute_result"
    }
   ],
   "source": [
    "df = pd.read_csv(\"./bash_fcm_facilities.csv\")\n",
    "df"
   ]
  },
  {
   "cell_type": "code",
   "execution_count": 3,
   "metadata": {},
   "outputs": [
    {
     "data": {
      "text/html": [
       "<div>\n",
       "<style scoped>\n",
       "    .dataframe tbody tr th:only-of-type {\n",
       "        vertical-align: middle;\n",
       "    }\n",
       "\n",
       "    .dataframe tbody tr th {\n",
       "        vertical-align: top;\n",
       "    }\n",
       "\n",
       "    .dataframe thead th {\n",
       "        text-align: right;\n",
       "    }\n",
       "</style>\n",
       "<table border=\"1\" class=\"dataframe\">\n",
       "  <thead>\n",
       "    <tr style=\"text-align: right;\">\n",
       "      <th></th>\n",
       "      <th>facility_id</th>\n",
       "      <th>postal_code</th>\n",
       "    </tr>\n",
       "  </thead>\n",
       "  <tbody>\n",
       "    <tr>\n",
       "      <th>821</th>\n",
       "      <td>018a9330-6221-7c0a-a78e-6da901b466a0</td>\n",
       "      <td>0458</td>\n",
       "    </tr>\n",
       "    <tr>\n",
       "      <th>2092</th>\n",
       "      <td>018a9332-bb79-7b43-8c55-7a220ab811d4</td>\n",
       "      <td>1734</td>\n",
       "    </tr>\n",
       "    <tr>\n",
       "      <th>3173</th>\n",
       "      <td>018a9335-62d5-71ba-93e1-2045e8784d89</td>\n",
       "      <td>5100</td>\n",
       "    </tr>\n",
       "    <tr>\n",
       "      <th>3431</th>\n",
       "      <td>018a9336-276a-7ab4-b2a2-3f4444561c83</td>\n",
       "      <td>0832</td>\n",
       "    </tr>\n",
       "    <tr>\n",
       "      <th>3688</th>\n",
       "      <td>018a9336-c5ba-7f73-b5d5-660790ecde37</td>\n",
       "      <td>7600</td>\n",
       "    </tr>\n",
       "    <tr>\n",
       "      <th>3871</th>\n",
       "      <td>018a9337-5466-787b-bafa-2b892a476894</td>\n",
       "      <td>0147</td>\n",
       "    </tr>\n",
       "    <tr>\n",
       "      <th>4460</th>\n",
       "      <td>018a9334-0614-7de7-aecc-4bf9f7004fc6</td>\n",
       "      <td>1035</td>\n",
       "    </tr>\n",
       "    <tr>\n",
       "      <th>4618</th>\n",
       "      <td>018a9337-c63a-76ff-b6c0-8cbefbea04a0</td>\n",
       "      <td>0920</td>\n",
       "    </tr>\n",
       "    <tr>\n",
       "      <th>4648</th>\n",
       "      <td>018a9334-0614-7de7-aecc-4bf9f7004fc6</td>\n",
       "      <td>1035</td>\n",
       "    </tr>\n",
       "    <tr>\n",
       "      <th>4649</th>\n",
       "      <td>018a9334-0614-7de7-aecc-4bf9f7004fc6</td>\n",
       "      <td>1035</td>\n",
       "    </tr>\n",
       "    <tr>\n",
       "      <th>4650</th>\n",
       "      <td>018a9335-62d5-71ba-93e1-2045e8784d89</td>\n",
       "      <td>5100</td>\n",
       "    </tr>\n",
       "    <tr>\n",
       "      <th>4651</th>\n",
       "      <td>018a9335-62d5-71ba-93e1-2045e8784d89</td>\n",
       "      <td>5100</td>\n",
       "    </tr>\n",
       "    <tr>\n",
       "      <th>4652</th>\n",
       "      <td>018a9336-276a-7ab4-b2a2-3f4444561c83</td>\n",
       "      <td>0832</td>\n",
       "    </tr>\n",
       "    <tr>\n",
       "      <th>4653</th>\n",
       "      <td>018a9330-6221-7c0a-a78e-6da901b466a0</td>\n",
       "      <td>0458</td>\n",
       "    </tr>\n",
       "    <tr>\n",
       "      <th>4654</th>\n",
       "      <td>018a9337-5466-787b-bafa-2b892a476894</td>\n",
       "      <td>0147</td>\n",
       "    </tr>\n",
       "    <tr>\n",
       "      <th>4655</th>\n",
       "      <td>018a9337-c63a-76ff-b6c0-8cbefbea04a0</td>\n",
       "      <td>0920</td>\n",
       "    </tr>\n",
       "    <tr>\n",
       "      <th>4656</th>\n",
       "      <td>018a9332-bb79-7b43-8c55-7a220ab811d4</td>\n",
       "      <td>1734</td>\n",
       "    </tr>\n",
       "    <tr>\n",
       "      <th>4657</th>\n",
       "      <td>018a9336-c5ba-7f73-b5d5-660790ecde37</td>\n",
       "      <td>7600</td>\n",
       "    </tr>\n",
       "  </tbody>\n",
       "</table>\n",
       "</div>"
      ],
      "text/plain": [
       "                               facility_id postal_code\n",
       "821   018a9330-6221-7c0a-a78e-6da901b466a0        0458\n",
       "2092  018a9332-bb79-7b43-8c55-7a220ab811d4        1734\n",
       "3173  018a9335-62d5-71ba-93e1-2045e8784d89        5100\n",
       "3431  018a9336-276a-7ab4-b2a2-3f4444561c83        0832\n",
       "3688  018a9336-c5ba-7f73-b5d5-660790ecde37        7600\n",
       "3871  018a9337-5466-787b-bafa-2b892a476894        0147\n",
       "4460  018a9334-0614-7de7-aecc-4bf9f7004fc6        1035\n",
       "4618  018a9337-c63a-76ff-b6c0-8cbefbea04a0        0920\n",
       "4648  018a9334-0614-7de7-aecc-4bf9f7004fc6        1035\n",
       "4649  018a9334-0614-7de7-aecc-4bf9f7004fc6        1035\n",
       "4650  018a9335-62d5-71ba-93e1-2045e8784d89        5100\n",
       "4651  018a9335-62d5-71ba-93e1-2045e8784d89        5100\n",
       "4652  018a9336-276a-7ab4-b2a2-3f4444561c83        0832\n",
       "4653  018a9330-6221-7c0a-a78e-6da901b466a0        0458\n",
       "4654  018a9337-5466-787b-bafa-2b892a476894        0147\n",
       "4655  018a9337-c63a-76ff-b6c0-8cbefbea04a0        0920\n",
       "4656  018a9332-bb79-7b43-8c55-7a220ab811d4        1734\n",
       "4657  018a9336-c5ba-7f73-b5d5-660790ecde37        7600"
      ]
     },
     "execution_count": 3,
     "metadata": {},
     "output_type": "execute_result"
    }
   ],
   "source": [
    "df[df['facility_id'].duplicated(keep=False)]"
   ]
  },
  {
   "cell_type": "code",
   "execution_count": 4,
   "metadata": {},
   "outputs": [
    {
     "data": {
      "text/plain": [
       "18"
      ]
     },
     "execution_count": 4,
     "metadata": {},
     "output_type": "execute_result"
    }
   ],
   "source": [
    "df['facility_id'].duplicated(keep=False).sum()"
   ]
  },
  {
   "cell_type": "code",
   "execution_count": 5,
   "metadata": {},
   "outputs": [],
   "source": [
    "df.drop_duplicates(inplace=True)"
   ]
  },
  {
   "cell_type": "code",
   "execution_count": 6,
   "metadata": {},
   "outputs": [
    {
     "data": {
      "text/plain": [
       "0"
      ]
     },
     "execution_count": 6,
     "metadata": {},
     "output_type": "execute_result"
    }
   ],
   "source": [
    "df['facility_id'].duplicated(keep=False).sum()"
   ]
  },
  {
   "cell_type": "code",
   "execution_count": 7,
   "metadata": {},
   "outputs": [
    {
     "data": {
      "text/plain": [
       "5422"
      ]
     },
     "execution_count": 7,
     "metadata": {},
     "output_type": "execute_result"
    }
   ],
   "source": [
    "df['postal_code'].duplicated().sum()"
   ]
  },
  {
   "cell_type": "code",
   "execution_count": null,
   "metadata": {},
   "outputs": [],
   "source": []
  }
 ],
 "metadata": {
  "kernelspec": {
   "display_name": "envs",
   "language": "python",
   "name": "python3"
  },
  "language_info": {
   "codemirror_mode": {
    "name": "ipython",
    "version": 3
   },
   "file_extension": ".py",
   "mimetype": "text/x-python",
   "name": "python",
   "nbconvert_exporter": "python",
   "pygments_lexer": "ipython3",
   "version": "3.10.7"
  }
 },
 "nbformat": 4,
 "nbformat_minor": 2
}
