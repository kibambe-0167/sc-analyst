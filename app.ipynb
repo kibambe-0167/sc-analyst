{
 "cells": [
  {
   "cell_type": "code",
   "execution_count": 1,
   "metadata": {},
   "outputs": [
    {
     "name": "stderr",
     "output_type": "stream",
     "text": [
      "/var/folders/0r/13xz5g6j45589319bn94k47w0000gn/T/ipykernel_67671/3438936138.py:4: DeprecationWarning: \n",
      "Pyarrow will become a required dependency of pandas in the next major release of pandas (pandas 3.0),\n",
      "(to allow more performant data types, such as the Arrow string type, and better interoperability with other libraries)\n",
      "but was not found to be installed on your system.\n",
      "If this would cause problems for you,\n",
      "please provide us feedback at https://github.com/pandas-dev/pandas/issues/54466\n",
      "        \n",
      "  import pandas as pd\n"
     ]
    }
   ],
   "source": [
    "import json\n",
    "import pprint\n",
    "import numpy as np\n",
    "import pandas as pd\n",
    "import seaborn as sns\n",
    "import geopy.distance\n",
    "from shapely.wkb import loads\n",
    "import matplotlib.pyplot as plt\n",
    "from math import radians, sin, cos, sqrt, atan2"
   ]
  },
  {
   "cell_type": "code",
   "execution_count": 2,
   "metadata": {},
   "outputs": [
    {
     "data": {
      "text/html": [
       "<div>\n",
       "<style scoped>\n",
       "    .dataframe tbody tr th:only-of-type {\n",
       "        vertical-align: middle;\n",
       "    }\n",
       "\n",
       "    .dataframe tbody tr th {\n",
       "        vertical-align: top;\n",
       "    }\n",
       "\n",
       "    .dataframe thead th {\n",
       "        text-align: right;\n",
       "    }\n",
       "</style>\n",
       "<table border=\"1\" class=\"dataframe\">\n",
       "  <thead>\n",
       "    <tr style=\"text-align: right;\">\n",
       "      <th></th>\n",
       "      <th>request</th>\n",
       "      <th>AVAILABLE_INVENTORY</th>\n",
       "      <th>PLAN</th>\n",
       "    </tr>\n",
       "  </thead>\n",
       "  <tbody>\n",
       "    <tr>\n",
       "      <th>0</th>\n",
       "      <td>{\\n  \"destination\": {\\n    \"branch_number\": \"\"...</td>\n",
       "      <td>[\\n  {\\n    \"BranchNumber\": \"060293\",\\n    \"Cr...</td>\n",
       "      <td>{\\n  \"allocation_id\": \"018cd7ee-fab0-77d9-b417...</td>\n",
       "    </tr>\n",
       "    <tr>\n",
       "      <th>1</th>\n",
       "      <td>{\\n  \"destination\": {\\n    \"branch_number\": \"\"...</td>\n",
       "      <td>[\\n  {\\n    \"BranchNumber\": \"330302\",\\n    \"Cr...</td>\n",
       "      <td>{\\n  \"allocation_id\": \"018cd951-c168-7149-8434...</td>\n",
       "    </tr>\n",
       "    <tr>\n",
       "      <th>2</th>\n",
       "      <td>{\\n  \"destination\": {\\n    \"branch_number\": \"0...</td>\n",
       "      <td>[\\n  {\\n    \"BranchNumber\": \"000025\",\\n    \"Cr...</td>\n",
       "      <td>{\\n  \"allocation_id\": \"018cdb42-2356-7261-8393...</td>\n",
       "    </tr>\n",
       "    <tr>\n",
       "      <th>3</th>\n",
       "      <td>{\\n  \"destination\": {\\n    \"branch_number\": \"0...</td>\n",
       "      <td>[\\n  {\\n    \"BranchNumber\": \"060940\",\\n    \"Cr...</td>\n",
       "      <td>{\\n  \"allocation_id\": \"018cda6a-5617-76ff-965b...</td>\n",
       "    </tr>\n",
       "    <tr>\n",
       "      <th>4</th>\n",
       "      <td>{\\n  \"destination\": {\\n    \"branch_number\": \"\"...</td>\n",
       "      <td>[\\n  {\\n    \"BranchNumber\": \"020400\",\\n    \"Cr...</td>\n",
       "      <td>{\\n  \"allocation_id\": \"018cd939-895f-7fea-a0e3...</td>\n",
       "    </tr>\n",
       "    <tr>\n",
       "      <th>...</th>\n",
       "      <td>...</td>\n",
       "      <td>...</td>\n",
       "      <td>...</td>\n",
       "    </tr>\n",
       "    <tr>\n",
       "      <th>3805</th>\n",
       "      <td>{\\n  \"destination\": {\\n    \"branch_number\": \"0...</td>\n",
       "      <td>[\\n  {\\n    \"BranchNumber\": \"000337\",\\n    \"Cr...</td>\n",
       "      <td>{\\n  \"allocation_id\": \"018cd984-1386-711e-bd3b...</td>\n",
       "    </tr>\n",
       "    <tr>\n",
       "      <th>3806</th>\n",
       "      <td>{\\n  \"destination\": {\\n    \"branch_number\": \"0...</td>\n",
       "      <td>[\\n  {\\n    \"BranchNumber\": \"060948\",\\n    \"Cr...</td>\n",
       "      <td>{\\n  \"allocation_id\": \"018cd94b-7815-7de9-a94c...</td>\n",
       "    </tr>\n",
       "    <tr>\n",
       "      <th>3807</th>\n",
       "      <td>{\\n  \"destination\": {\\n    \"branch_number\": \"\"...</td>\n",
       "      <td>[\\n  {\\n    \"BranchNumber\": \"016347\",\\n    \"Cr...</td>\n",
       "      <td>{\\n  \"allocation_id\": \"018cd8f1-d26a-7953-95ec...</td>\n",
       "    </tr>\n",
       "    <tr>\n",
       "      <th>3808</th>\n",
       "      <td>{\\n  \"destination\": {\\n    \"branch_number\": \"\"...</td>\n",
       "      <td>[\\n  {\\n    \"BranchNumber\": \"020466\",\\n    \"Cr...</td>\n",
       "      <td>{\\n  \"allocation_id\": \"018cd935-f75e-7960-9aca...</td>\n",
       "    </tr>\n",
       "    <tr>\n",
       "      <th>3809</th>\n",
       "      <td>{\\n  \"destination\": {\\n    \"branch_number\": \"\"...</td>\n",
       "      <td>[\\n  {\\n    \"BranchNumber\": \"000028\",\\n    \"Cr...</td>\n",
       "      <td>{\\n  \"allocation_id\": \"018cd882-025b-78f6-a13c...</td>\n",
       "    </tr>\n",
       "  </tbody>\n",
       "</table>\n",
       "<p>3810 rows × 3 columns</p>\n",
       "</div>"
      ],
      "text/plain": [
       "                                                request  \\\n",
       "0     {\\n  \"destination\": {\\n    \"branch_number\": \"\"...   \n",
       "1     {\\n  \"destination\": {\\n    \"branch_number\": \"\"...   \n",
       "2     {\\n  \"destination\": {\\n    \"branch_number\": \"0...   \n",
       "3     {\\n  \"destination\": {\\n    \"branch_number\": \"0...   \n",
       "4     {\\n  \"destination\": {\\n    \"branch_number\": \"\"...   \n",
       "...                                                 ...   \n",
       "3805  {\\n  \"destination\": {\\n    \"branch_number\": \"0...   \n",
       "3806  {\\n  \"destination\": {\\n    \"branch_number\": \"0...   \n",
       "3807  {\\n  \"destination\": {\\n    \"branch_number\": \"\"...   \n",
       "3808  {\\n  \"destination\": {\\n    \"branch_number\": \"\"...   \n",
       "3809  {\\n  \"destination\": {\\n    \"branch_number\": \"\"...   \n",
       "\n",
       "                                    AVAILABLE_INVENTORY  \\\n",
       "0     [\\n  {\\n    \"BranchNumber\": \"060293\",\\n    \"Cr...   \n",
       "1     [\\n  {\\n    \"BranchNumber\": \"330302\",\\n    \"Cr...   \n",
       "2     [\\n  {\\n    \"BranchNumber\": \"000025\",\\n    \"Cr...   \n",
       "3     [\\n  {\\n    \"BranchNumber\": \"060940\",\\n    \"Cr...   \n",
       "4     [\\n  {\\n    \"BranchNumber\": \"020400\",\\n    \"Cr...   \n",
       "...                                                 ...   \n",
       "3805  [\\n  {\\n    \"BranchNumber\": \"000337\",\\n    \"Cr...   \n",
       "3806  [\\n  {\\n    \"BranchNumber\": \"060948\",\\n    \"Cr...   \n",
       "3807  [\\n  {\\n    \"BranchNumber\": \"016347\",\\n    \"Cr...   \n",
       "3808  [\\n  {\\n    \"BranchNumber\": \"020466\",\\n    \"Cr...   \n",
       "3809  [\\n  {\\n    \"BranchNumber\": \"000028\",\\n    \"Cr...   \n",
       "\n",
       "                                                   PLAN  \n",
       "0     {\\n  \"allocation_id\": \"018cd7ee-fab0-77d9-b417...  \n",
       "1     {\\n  \"allocation_id\": \"018cd951-c168-7149-8434...  \n",
       "2     {\\n  \"allocation_id\": \"018cdb42-2356-7261-8393...  \n",
       "3     {\\n  \"allocation_id\": \"018cda6a-5617-76ff-965b...  \n",
       "4     {\\n  \"allocation_id\": \"018cd939-895f-7fea-a0e3...  \n",
       "...                                                 ...  \n",
       "3805  {\\n  \"allocation_id\": \"018cd984-1386-711e-bd3b...  \n",
       "3806  {\\n  \"allocation_id\": \"018cd94b-7815-7de9-a94c...  \n",
       "3807  {\\n  \"allocation_id\": \"018cd8f1-d26a-7953-95ec...  \n",
       "3808  {\\n  \"allocation_id\": \"018cd935-f75e-7960-9aca...  \n",
       "3809  {\\n  \"allocation_id\": \"018cd882-025b-78f6-a13c...  \n",
       "\n",
       "[3810 rows x 3 columns]"
      ]
     },
     "execution_count": 2,
     "metadata": {},
     "output_type": "execute_result"
    }
   ],
   "source": [
    "algo_df = pd.read_csv(\"./data/allocation_algorithm_logs_20240105.csv\")\n",
    "algo_df"
   ]
  },
  {
   "cell_type": "code",
   "execution_count": 3,
   "metadata": {},
   "outputs": [
    {
     "data": {
      "text/plain": [
       "request                object\n",
       "AVAILABLE_INVENTORY    object\n",
       "PLAN                   object\n",
       "dtype: object"
      ]
     },
     "execution_count": 3,
     "metadata": {},
     "output_type": "execute_result"
    }
   ],
   "source": [
    "algo_df.dtypes"
   ]
  },
  {
   "cell_type": "code",
   "execution_count": 4,
   "metadata": {},
   "outputs": [
    {
     "data": {
      "text/plain": [
       "request                0\n",
       "AVAILABLE_INVENTORY    0\n",
       "PLAN                   0\n",
       "dtype: int64"
      ]
     },
     "execution_count": 4,
     "metadata": {},
     "output_type": "execute_result"
    }
   ],
   "source": [
    "algo_df.isna().sum()"
   ]
  },
  {
   "cell_type": "code",
   "execution_count": 5,
   "metadata": {},
   "outputs": [
    {
     "data": {
      "text/plain": [
       "request                0\n",
       "AVAILABLE_INVENTORY    0\n",
       "PLAN                   0\n",
       "dtype: int64"
      ]
     },
     "execution_count": 5,
     "metadata": {},
     "output_type": "execute_result"
    }
   ],
   "source": [
    "algo_df.isnull().sum()"
   ]
  },
  {
   "cell_type": "code",
   "execution_count": 6,
   "metadata": {},
   "outputs": [
    {
     "data": {
      "text/plain": [
       "0"
      ]
     },
     "execution_count": 6,
     "metadata": {},
     "output_type": "execute_result"
    }
   ],
   "source": [
    "algo_df.duplicated().sum()"
   ]
  },
  {
   "cell_type": "code",
   "execution_count": 7,
   "metadata": {},
   "outputs": [
    {
     "name": "stdout",
     "output_type": "stream",
     "text": [
      "<class 'pandas.core.frame.DataFrame'>\n",
      "RangeIndex: 3810 entries, 0 to 3809\n",
      "Data columns (total 3 columns):\n",
      " #   Column               Non-Null Count  Dtype \n",
      "---  ------               --------------  ----- \n",
      " 0   request              3810 non-null   object\n",
      " 1   AVAILABLE_INVENTORY  3810 non-null   object\n",
      " 2   PLAN                 3810 non-null   object\n",
      "dtypes: object(3)\n",
      "memory usage: 89.4+ KB\n"
     ]
    }
   ],
   "source": [
    "algo_df.info()"
   ]
  },
  {
   "cell_type": "code",
   "execution_count": 8,
   "metadata": {},
   "outputs": [
    {
     "data": {
      "text/html": [
       "<div>\n",
       "<style scoped>\n",
       "    .dataframe tbody tr th:only-of-type {\n",
       "        vertical-align: middle;\n",
       "    }\n",
       "\n",
       "    .dataframe tbody tr th {\n",
       "        vertical-align: top;\n",
       "    }\n",
       "\n",
       "    .dataframe thead th {\n",
       "        text-align: right;\n",
       "    }\n",
       "</style>\n",
       "<table border=\"1\" class=\"dataframe\">\n",
       "  <thead>\n",
       "    <tr style=\"text-align: right;\">\n",
       "      <th></th>\n",
       "      <th>request</th>\n",
       "      <th>AVAILABLE_INVENTORY</th>\n",
       "      <th>PLAN</th>\n",
       "    </tr>\n",
       "  </thead>\n",
       "  <tbody>\n",
       "    <tr>\n",
       "      <th>count</th>\n",
       "      <td>3810</td>\n",
       "      <td>3810</td>\n",
       "      <td>3810</td>\n",
       "    </tr>\n",
       "    <tr>\n",
       "      <th>unique</th>\n",
       "      <td>3810</td>\n",
       "      <td>3805</td>\n",
       "      <td>3810</td>\n",
       "    </tr>\n",
       "    <tr>\n",
       "      <th>top</th>\n",
       "      <td>{\\n  \"destination\": {\\n    \"branch_number\": \"\"...</td>\n",
       "      <td>[\\n  {\\n    \"BranchNumber\": \"060773\",\\n    \"Cr...</td>\n",
       "      <td>{\\n  \"allocation_id\": \"018cd7ee-fab0-77d9-b417...</td>\n",
       "    </tr>\n",
       "    <tr>\n",
       "      <th>freq</th>\n",
       "      <td>1</td>\n",
       "      <td>3</td>\n",
       "      <td>1</td>\n",
       "    </tr>\n",
       "  </tbody>\n",
       "</table>\n",
       "</div>"
      ],
      "text/plain": [
       "                                                  request  \\\n",
       "count                                                3810   \n",
       "unique                                               3810   \n",
       "top     {\\n  \"destination\": {\\n    \"branch_number\": \"\"...   \n",
       "freq                                                    1   \n",
       "\n",
       "                                      AVAILABLE_INVENTORY  \\\n",
       "count                                                3810   \n",
       "unique                                               3805   \n",
       "top     [\\n  {\\n    \"BranchNumber\": \"060773\",\\n    \"Cr...   \n",
       "freq                                                    3   \n",
       "\n",
       "                                                     PLAN  \n",
       "count                                                3810  \n",
       "unique                                               3810  \n",
       "top     {\\n  \"allocation_id\": \"018cd7ee-fab0-77d9-b417...  \n",
       "freq                                                    1  "
      ]
     },
     "execution_count": 8,
     "metadata": {},
     "output_type": "execute_result"
    }
   ],
   "source": [
    "algo_df.describe()"
   ]
  },
  {
   "cell_type": "code",
   "execution_count": 9,
   "metadata": {},
   "outputs": [
    {
     "name": "stdout",
     "output_type": "stream",
     "text": [
      "(3810, 3)\n"
     ]
    },
    {
     "data": {
      "text/plain": [
       "array(['{\\n  \"destination\": {\\n    \"branch_number\": \"\",\\n    \"delivery_type\": \"DoorToDoor\",\\n    \"latitude\": -34.0331987,\\n    \"longitude\": 18.4902276,\\n    \"postal_code\": \"7880\",\\n    \"province\": \"Western Cape\"\\n  },\\n  \"dry_run\": false,\\n  \"external_order_reference\": \"B4403050-01\",\\n  \"items\": [\\n    {\\n      \"alternative_sku\": null,\\n      \"alternative_trading_company\": null,\\n      \"excluded_branches\": null,\\n      \"order_item_id\": \"cb47a624-f2c6-5819-8a41-60685135920d\",\\n      \"previous_reservation_ids\": null,\\n      \"quantity\": 1,\\n      \"sku\": \"60107365\",\\n      \"trading_company_number\": \"06\"\\n    }\\n  ],\\n  \"order_created_at\": \"2024-01-05T04:43:30.778689Z\",\\n  \"order_id\": \"b3ef66cf-1ee7-5a38-b607-049a1d151e0a\"\\n}',\n",
       "       '[\\n  {\\n    \"BranchNumber\": \"060293\",\\n    \"CreatedAt\": \"2023-10-12T07:55:06.692344Z\",\\n    \"DeletedAt\": null,\\n    \"FacilityActive\": true,\\n    \"FacilityAtCapacity\": false,\\n    \"FacilityCourierCActive\": false,\\n    \"FacilityBuffer\": 1,\\n    \"FacilityCoordinates\": \"0101000020E6100000C1E61C3C13063F40B07614E7A8DB3DC0\",\\n    \"FacilityID\": \"018a9334-a2ed-719c-8e47-1159956d8e18\",\\n    \"FacilityProvince\": \"KwaZulu-Natal\",\\n    \"FacilityRegion\": \"LOCAL\",\\n    \"FacilityReservedQty\": 17,\\n    \"FacilitySKUActive\": true,\\n    \"FacilitySubType\": null,\\n    \"FacilityType\": \"Store\",\\n    \"Id\": \"018b22e1-d243-7b5a-b3d6-fd1fc9e6d210\",\\n    \"NormalisedSku\": \"06-60107365\",\\n    \"OnHandQuantity\": 4,\\n    \"QtyAvailable\": 3,\\n    \"Sku\": \"60107365\",\\n    \"StockSourceUpdatedAt\": \"2023-11-14T14:32:30Z\",\\n    \"TradingCompanyNumber\": \"06\",\\n    \"UpdatedAt\": \"2023-12-23T06:55:00.37904Z\"\\n  },\\n  {\\n    \"BranchNumber\": \"060805\",\\n    \"CreatedAt\": \"2023-10-12T07:54:52.848081Z\",\\n    \"DeletedAt\": null,\\n    \"FacilityActive\": true,\\n    \"FacilityAtCapacity\": false,\\n    \"FacilityCourierCActive\": false,\\n    \"FacilityBuffer\": 1,\\n    \"FacilityCoordinates\": \"0101000020E6100000E109BDFE24463C40D65416855DC839C0\",\\n    \"FacilityID\": \"018a9335-57d1-7ab0-aef8-a39c199f6362\",\\n    \"FacilityProvince\": \"Gauteng\",\\n    \"FacilityRegion\": \"LOCAL\",\\n    \"FacilityReservedQty\": 13,\\n    \"FacilitySKUActive\": true,\\n    \"FacilitySubType\": null,\\n    \"FacilityType\": \"Store\",\\n    \"Id\": \"018b22e1-9c2e-7326-8d98-03f6a5b6fa12\",\\n    \"NormalisedSku\": \"06-60107365\",\\n    \"OnHandQuantity\": 4,\\n    \"QtyAvailable\": 3,\\n    \"Sku\": \"60107365\",\\n    \"StockSourceUpdatedAt\": \"2023-11-14T16:22:00Z\",\\n    \"TradingCompanyNumber\": \"06\",\\n    \"UpdatedAt\": \"2023-12-08T11:38:33.775328Z\"\\n  },\\n  {\\n    \"BranchNumber\": \"060987\",\\n    \"CreatedAt\": \"2023-10-12T07:54:51.088767Z\",\\n    \"DeletedAt\": null,\\n    \"FacilityActive\": true,\\n    \"FacilityAtCapacity\": false,\\n    \"FacilityCourierCActive\": false,\\n    \"FacilityBuffer\": 1,\\n    \"FacilityCoordinates\": \"0101000020E610000011C7BAB88DD23B405E4A5D328EB53AC0\",\\n    \"FacilityID\": \"018a9335-a4a2-78fc-a67c-19e6c9bd7dfa\",\\n    \"FacilityProvince\": \"Gauteng\",\\n    \"FacilityRegion\": \"LOCAL\",\\n    \"FacilityReservedQty\": 18,\\n    \"FacilitySKUActive\": true,\\n    \"FacilitySubType\": null,\\n    \"FacilityType\": \"Store\",\\n    \"Id\": \"018b22e1-954e-7364-a0fd-1e2dd2a2e261\",\\n    \"NormalisedSku\": \"06-60107365\",\\n    \"OnHandQuantity\": 4,\\n    \"QtyAvailable\": 3,\\n    \"Sku\": \"60107365\",\\n    \"StockSourceUpdatedAt\": \"2023-11-13T16:48:59Z\",\\n    \"TradingCompanyNumber\": \"06\",\\n    \"UpdatedAt\": \"2023-12-08T11:41:14.85504Z\"\\n  },\\n  {\\n    \"BranchNumber\": \"060853\",\\n    \"CreatedAt\": \"2023-10-12T07:54:47.379074Z\",\\n    \"DeletedAt\": null,\\n    \"FacilityActive\": true,\\n    \"FacilityAtCapacity\": false,\\n    \"FacilityCourierCActive\": false,\\n    \"FacilityBuffer\": 1,\\n    \"FacilityCoordinates\": \"0101000020E610000059198D7C5E053F4079CC4065FCDB3DC0\",\\n    \"FacilityID\": \"018a9335-6e72-797c-ba98-9fa68c5a01e5\",\\n    \"FacilityProvince\": \"KwaZulu-Natal\",\\n    \"FacilityRegion\": \"LOCAL\",\\n    \"FacilityReservedQty\": 23,\\n    \"FacilitySKUActive\": true,\\n    \"FacilitySubType\": null,\\n    \"FacilityType\": \"Store\",\\n    \"Id\": \"018b22e1-86d2-7ba0-beb1-bf8153b60da6\",\\n    \"NormalisedSku\": \"06-60107365\",\\n    \"OnHandQuantity\": 4,\\n    \"QtyAvailable\": 3,\\n    \"Sku\": \"60107365\",\\n    \"StockSourceUpdatedAt\": \"2023-11-14T14:11:00Z\",\\n    \"TradingCompanyNumber\": \"06\",\\n    \"UpdatedAt\": \"2023-12-08T11:39:50.405147Z\"\\n  },\\n  {\\n    \"BranchNumber\": \"060932\",\\n    \"CreatedAt\": \"2023-10-12T07:54:52.410766Z\",\\n    \"DeletedAt\": null,\\n    \"FacilityActive\": true,\\n    \"FacilityAtCapacity\": false,\\n    \"FacilityCourierCActive\": false,\\n    \"FacilityBuffer\": 1,\\n    \"FacilityCoordinates\": \"0101000020E61000002E55698B6B503C40EF737CB4382F3AC0\",\\n    \"FacilityID\": \"018a9335-89b8-7832-972d-1fdd32199499\",\\n    \"FacilityProvince\": \"Gauteng\",\\n    \"FacilityRegion\": \"LOCAL\",\\n    \"FacilityReservedQty\": 14,\\n    \"FacilitySKUActive\": true,\\n    \"FacilitySubType\": null,\\n    \"FacilityType\": \"Store\",\\n    \"Id\": \"018b22e1-9a79-7364-a063-79ac11c74809\",\\n    \"NormalisedSku\": \"06-60107365\",\\n    \"OnHandQuantity\": 4,\\n    \"QtyAvailable\": 3,\\n    \"Sku\": \"60107365\",\\n    \"StockSourceUpdatedAt\": \"2023-11-13T14:01:00Z\",\\n    \"TradingCompanyNumber\": \"06\",\\n    \"UpdatedAt\": \"2023-12-08T12:11:05.797742Z\"\\n  },\\n  {\\n    \"BranchNumber\": \"060967\",\\n    \"CreatedAt\": \"2023-10-12T07:54:56.226968Z\",\\n    \"DeletedAt\": null,\\n    \"FacilityActive\": true,\\n    \"FacilityAtCapacity\": false,\\n    \"FacilityCourierCActive\": false,\\n    \"FacilityBuffer\": 1,\\n    \"FacilityCoordinates\": \"0101000020E6100000077DE9EDCF9D32400FD253E4100541C0\",\\n    \"FacilityID\": \"018a9335-9b5f-7300-934c-dddc77094193\",\\n    \"FacilityProvince\": \"Western Cape\",\\n    \"FacilityRegion\": \"LOCAL\",\\n    \"FacilityReservedQty\": 16,\\n    \"FacilitySKUActive\": true,\\n    \"FacilitySubType\": null,\\n    \"FacilityType\": \"Store\",\\n    \"Id\": \"018b22e1-a960-71dc-af28-8d6b8930b491\",\\n    \"NormalisedSku\": \"06-60107365\",\\n    \"OnHandQuantity\": 4,\\n    \"QtyAvailable\": 3,\\n    \"Sku\": \"60107365\",\\n    \"StockSourceUpdatedAt\": \"2023-11-09T13:44:22Z\",\\n    \"TradingCompanyNumber\": \"06\",\\n    \"UpdatedAt\": \"2023-12-08T12:58:38.828549Z\"\\n  },\\n  {\\n    \"BranchNumber\": \"060974\",\\n    \"CreatedAt\": \"2023-10-12T07:54:47.69228Z\",\\n    \"DeletedAt\": null,\\n    \"FacilityActive\": true,\\n    \"FacilityAtCapacity\": false,\\n    \"FacilityCourierCActive\": false,\\n    \"FacilityBuffer\": 1,\\n    \"FacilityCoordinates\": \"0101000020E6100000AB764D486B103F40FDD98F1491B93DC0\",\\n    \"FacilityID\": \"018a9335-9e28-7519-a8ee-5d47fb81d193\",\\n    \"FacilityProvince\": \"KwaZulu-Natal\",\\n    \"FacilityRegion\": \"LOCAL\",\\n    \"FacilityReservedQty\": 18,\\n    \"FacilitySKUActive\": true,\\n    \"FacilitySubType\": null,\\n    \"FacilityType\": \"Store\",\\n    \"Id\": \"018b22e1-8805-71ac-aa49-c2d1814d8824\",\\n    \"NormalisedSku\": \"06-60107365\",\\n    \"OnHandQuantity\": 4,\\n    \"QtyAvailable\": 3,\\n    \"Sku\": \"60107365\",\\n    \"StockSourceUpdatedAt\": \"2023-12-03T10:21:40Z\",\\n    \"TradingCompanyNumber\": \"06\",\\n    \"UpdatedAt\": \"2023-12-29T20:40:18.887835Z\"\\n  },\\n  {\\n    \"BranchNumber\": \"060857\",\\n    \"CreatedAt\": \"2023-10-12T07:54:52.310779Z\",\\n    \"DeletedAt\": null,\\n    \"FacilityActive\": true,\\n    \"FacilityAtCapacity\": false,\\n    \"FacilityCourierCActive\": false,\\n    \"FacilityBuffer\": 1,\\n    \"FacilityCoordinates\": \"0101000020E61000002D08E57D1C3D3B40E92CB308C5AA39C0\",\\n    \"FacilityID\": \"018a9335-704d-7ab2-b672-e2ad52354d05\",\\n    \"FacilityProvince\": \"North West\",\\n    \"FacilityRegion\": \"LOCAL\",\\n    \"FacilityReservedQty\": 17,\\n    \"FacilitySKUActive\": true,\\n    \"FacilitySubType\": null,\\n    \"FacilityType\": \"Store\",\\n    \"Id\": \"018b22e1-9a15-7364-b9fb-c2750ecb6734\",\\n    \"NormalisedSku\": \"06-60107365\",\\n    \"OnHandQuantity\": 4,\\n    \"QtyAvailable\": 3,\\n    \"Sku\": \"60107365\",\\n    \"StockSourceUpdatedAt\": \"2023-11-14T15:36:00Z\",\\n    \"TradingCompanyNumber\": \"06\",\\n    \"UpdatedAt\": \"2023-12-13T06:53:41.555551Z\"\\n  },\\n  {\\n    \"BranchNumber\": \"060905\",\\n    \"CreatedAt\": \"2023-10-12T07:54:52.341153Z\",\\n    \"DeletedAt\": null,\\n    \"FacilityActive\": true,\\n    \"FacilityAtCapacity\": false,\\n    \"FacilityCourierCActive\": true,\\n    \"FacilityBuffer\": 1,\\n    \"FacilityCoordinates\": \"0101000020E6100000960A2AAA7E993240897E6DFDF4F340C0\",\\n    \"FacilityID\": \"018a9335-7878-7fde-a9fd-57fc82d34963\",\\n    \"FacilityProvince\": \"Western Cape\",\\n    \"FacilityRegion\": \"LOCAL\",\\n    \"FacilityReservedQty\": 25,\\n    \"FacilitySKUActive\": true,\\n    \"FacilitySubType\": null,\\n    \"FacilityType\": \"Store\",\\n    \"Id\": \"018b22e1-9a33-7364-8177-56b97367756f\",\\n    \"NormalisedSku\": \"06-60107365\",\\n    \"OnHandQuantity\": 3,\\n    \"QtyAvailable\": 2,\\n    \"Sku\": \"60107365\",\\n    \"StockSourceUpdatedAt\": \"2023-12-31T11:53:09Z\",\\n    \"TradingCompanyNumber\": \"06\",\\n    \"UpdatedAt\": \"2023-12-31T11:53:14.225731Z\"\\n  },\\n  {\\n    \"BranchNumber\": \"060950\",\\n    \"CreatedAt\": \"2023-10-12T07:54:56.173554Z\",\\n    \"DeletedAt\": null,\\n    \"FacilityActive\": true,\\n    \"FacilityAtCapacity\": false,\\n    \"FacilityCourierCActive\": false,\\n    \"FacilityBuffer\": 1,\\n    \"FacilityCoordinates\": \"0101000020E610000002A08A1BB7F03E40D653ABAFAED63DC0\",\\n    \"FacilityID\": \"018a9335-9381-7dc5-a843-974a13ecdccf\",\\n    \"FacilityProvince\": \"KwaZulu-Natal\",\\n    \"FacilityRegion\": \"LOCAL\",\\n    \"FacilityReservedQty\": 14,\\n    \"FacilitySKUActive\": true,\\n    \"FacilitySubType\": null,\\n    \"FacilityType\": \"Store\",\\n    \"Id\": \"018b22e1-a92c-71dc-b343-d356c5c1d3c5\",\\n    \"NormalisedSku\": \"06-60107365\",\\n    \"OnHandQuantity\": 3,\\n    \"QtyAvailable\": 2,\\n    \"Sku\": \"60107365\",\\n    \"StockSourceUpdatedAt\": \"2023-12-28T15:28:09Z\",\\n    \"TradingCompanyNumber\": \"06\",\\n    \"UpdatedAt\": \"2023-12-28T15:28:11.84484Z\"\\n  },\\n  {\\n    \"BranchNumber\": \"060954\",\\n    \"CreatedAt\": \"2023-10-12T07:55:08.147798Z\",\\n    \"DeletedAt\": null,\\n    \"FacilityActive\": true,\\n    \"FacilityAtCapacity\": false,\\n    \"FacilityCourierCActive\": false,\\n    \"FacilityBuffer\": 1,\\n    \"FacilityCoordinates\": \"0101000020E61000009D66817687603E40A67EDE54A49A3DC0\",\\n    \"FacilityID\": \"018a9335-9584-7f02-84ee-ee212e1e4322\",\\n    \"FacilityProvince\": \"KwaZulu-Natal\",\\n    \"FacilityRegion\": \"LOCAL\",\\n    \"FacilityReservedQty\": 28,\\n    \"FacilitySKUActive\": true,\\n    \"FacilitySubType\": null,\\n    \"FacilityType\": \"Store\",\\n    \"Id\": \"018b22e1-d7ee-7b5a-9871-3b65aa154388\",\\n    \"NormalisedSku\": \"06-60107365\",\\n    \"OnHandQuantity\": 3,\\n    \"QtyAvailable\": 2,\\n    \"Sku\": \"60107365\",\\n    \"StockSourceUpdatedAt\": \"2023-12-09T15:06:40Z\",\\n    \"TradingCompanyNumber\": \"06\",\\n    \"UpdatedAt\": \"2023-12-23T09:28:01.001217Z\"\\n  },\\n  {\\n    \"BranchNumber\": \"060225\",\\n    \"CreatedAt\": \"2023-10-12T07:54:52.895974Z\",\\n    \"DeletedAt\": null,\\n    \"FacilityActive\": true,\\n    \"FacilityAtCapacity\": false,\\n    \"FacilityCourierCActive\": false,\\n    \"FacilityBuffer\": 1,\\n    \"FacilityCoordinates\": \"0101000020E61000003999B85510333A40C1E09A3BFA1B3DC0\",\\n    \"FacilityID\": \"018a9334-876b-709e-b07f-a579f2c9df5f\",\\n    \"FacilityProvince\": \"Gauteng\",\\n    \"FacilityRegion\": \"LOCAL\",\\n    \"FacilityReservedQty\": 24,\\n    \"FacilitySKUActive\": true,\\n    \"FacilitySubType\": null,\\n    \"FacilityType\": \"Store\",\\n    \"Id\": \"018b22e1-9c5e-7326-9527-f26d3e7a5233\",\\n    \"NormalisedSku\": \"06-60107365\",\\n    \"OnHandQuantity\": 2,\\n    \"QtyAvailable\": 1,\\n    \"Sku\": \"60107365\",\\n    \"StockSourceUpdatedAt\": \"2023-12-10T12:15:10Z\",\\n    \"TradingCompanyNumber\": \"06\",\\n    \"UpdatedAt\": \"2023-12-10T12:15:12.496053Z\"\\n  },\\n  {\\n    \"BranchNumber\": \"069092\",\\n    \"CreatedAt\": \"2023-10-12T07:54:46.677092Z\",\\n    \"DeletedAt\": null,\\n    \"FacilityActive\": true,\\n    \"FacilityAtCapacity\": false,\\n    \"FacilityCourierCActive\": false,\\n    \"FacilityBuffer\": 1,\\n    \"FacilityCoordinates\": \"0101000020E6100000AF264F594D6B3240D34CF73AA9F340C0\",\\n    \"FacilityID\": \"018a9336-9719-781d-9e05-6f5544e795ef\",\\n    \"FacilityProvince\": \"Western Cape\",\\n    \"FacilityRegion\": \"LOCAL\",\\n    \"FacilityReservedQty\": 14,\\n    \"FacilitySKUActive\": true,\\n    \"FacilitySubType\": null,\\n    \"FacilityType\": \"Store\",\\n    \"Id\": \"018b22e1-840f-71ac-8462-3bd5a0fc03cc\",\\n    \"NormalisedSku\": \"06-60107365\",\\n    \"OnHandQuantity\": 2,\\n    \"QtyAvailable\": 1,\\n    \"Sku\": \"60107365\",\\n    \"StockSourceUpdatedAt\": \"2023-12-20T08:06:10Z\",\\n    \"TradingCompanyNumber\": \"06\",\\n    \"UpdatedAt\": \"2023-12-20T08:06:12.256394Z\"\\n  },\\n  {\\n    \"BranchNumber\": \"066927\",\\n    \"CreatedAt\": \"2023-10-12T07:54:46.798273Z\",\\n    \"DeletedAt\": null,\\n    \"FacilityActive\": true,\\n    \"FacilityAtCapacity\": false,\\n    \"FacilityCourierCActive\": false,\\n    \"FacilityBuffer\": 1,\\n    \"FacilityCoordinates\": \"0101000020E6100000F698486936033C402844C02154053AC0\",\\n    \"FacilityID\": \"018a9336-5e72-7c1d-acf7-6cd75838f4ca\",\\n    \"FacilityProvince\": \"Gauteng\",\\n    \"FacilityRegion\": \"LOCAL\",\\n    \"FacilityReservedQty\": 13,\\n    \"FacilitySKUActive\": true,\\n    \"FacilitySubType\": null,\\n    \"FacilityType\": \"Store\",\\n    \"Id\": \"018b22e1-848d-7078-9474-f41eaebf11ed\",\\n    \"NormalisedSku\": \"06-60107365\",\\n    \"OnHandQuantity\": 2,\\n    \"QtyAvailable\": 1,\\n    \"Sku\": \"60107365\",\\n    \"StockSourceUpdatedAt\": \"2023-12-29T10:19:39Z\",\\n    \"TradingCompanyNumber\": \"06\",\\n    \"UpdatedAt\": \"2023-12-29T10:19:44.721253Z\"\\n  }\\n]',\n",
       "       '{\\n  \"allocation_id\": \"018cd7ee-fab0-77d9-b417-61fd0f96e865\",\\n  \"cancellations\": null,\\n  \"created_at\": \"2024-01-05T04:43:32.448771942Z\",\\n  \"dry_run\": false,\\n  \"external_order_reference\": \"B4403050-01\",\\n  \"order_id\": \"b3ef66cf-1ee7-5a38-b607-049a1d151e0a\",\\n  \"reservations\": [\\n    {\\n      \"alternative_sku\": null,\\n      \"alternative_trading_company\": null,\\n      \"branch_number\": \"060905\",\\n      \"courier\": \"courier_c\",\\n      \"created_at\": \"2024-01-05T04:43:32.443897453Z\",\\n      \"excluded_branches\": null,\\n      \"omni_fulfilment_data\": {\\n        \"fulfilment_centre_code\": \"STORE\",\\n        \"fulfilment_centre_description\": \"Stores\",\\n        \"fulfilment_centre_id\": 6\\n      },\\n      \"order_item_id\": \"cb47a624-f2c6-5819-8a41-60685135920d\",\\n      \"previous_reservation_ids\": null,\\n      \"quantity\": 1,\\n      \"reservation_id\": \"018cd7ee-fadb-77d9-acc0-cfc31a879d1c\",\\n      \"sku\": \"60107365\",\\n      \"trading_company_number\": \"06\"\\n    }\\n  ]\\n}'],\n",
       "      dtype=object)"
      ]
     },
     "execution_count": 9,
     "metadata": {},
     "output_type": "execute_result"
    }
   ],
   "source": [
    "# sample = algo_df.iloc[5]\n",
    "# sample\n",
    "dt = []\n",
    "print(algo_df.shape)\n",
    "sample = None\n",
    "for instance in algo_df.values:\n",
    "  instance\n",
    "  a = json.loads(instance[0])\n",
    "  if len(a['items']) > 0: # get a sample with many items to know more, \n",
    "    sample = instance\n",
    "    break\n",
    "  # if len( dt) > 3: break # stop loop after getting 3 instance of delivery door to door\n",
    "  # if a['destination']['delivery_type'] == 'DoorToDoor': dt.append(instance)\n",
    "sample"
   ]
  },
  {
   "cell_type": "code",
   "execution_count": 10,
   "metadata": {},
   "outputs": [],
   "source": [
    "# print(dt[0][0]),\n",
    "# print(dt[0][1]),\n",
    "# print(dt[0][2])"
   ]
  },
  {
   "cell_type": "code",
   "execution_count": 11,
   "metadata": {},
   "outputs": [],
   "source": [
    "request = json.loads(sample[0])\n",
    "stocks = json.loads(sample[1])\n",
    "plan = json.loads(sample[2])"
   ]
  },
  {
   "cell_type": "code",
   "execution_count": 12,
   "metadata": {},
   "outputs": [
    {
     "name": "stdout",
     "output_type": "stream",
     "text": [
      "dict_keys(['destination', 'dry_run', 'external_order_reference', 'items', 'order_created_at', 'order_id'])\n",
      "number items:  1\n"
     ]
    },
    {
     "data": {
      "text/plain": [
       "{'destination': {'branch_number': '',\n",
       "  'delivery_type': 'DoorToDoor',\n",
       "  'latitude': -34.0331987,\n",
       "  'longitude': 18.4902276,\n",
       "  'postal_code': '7880',\n",
       "  'province': 'Western Cape'},\n",
       " 'dry_run': False,\n",
       " 'external_order_reference': 'B4403050-01',\n",
       " 'items': [{'alternative_sku': None,\n",
       "   'alternative_trading_company': None,\n",
       "   'excluded_branches': None,\n",
       "   'order_item_id': 'cb47a624-f2c6-5819-8a41-60685135920d',\n",
       "   'previous_reservation_ids': None,\n",
       "   'quantity': 1,\n",
       "   'sku': '60107365',\n",
       "   'trading_company_number': '06'}],\n",
       " 'order_created_at': '2024-01-05T04:43:30.778689Z',\n",
       " 'order_id': 'b3ef66cf-1ee7-5a38-b607-049a1d151e0a'}"
      ]
     },
     "execution_count": 12,
     "metadata": {},
     "output_type": "execute_result"
    }
   ],
   "source": [
    "print(request.keys())\n",
    "print(\"number items: \", len(request['items']))\n",
    "# \n",
    "request"
   ]
  },
  {
   "cell_type": "code",
   "execution_count": 13,
   "metadata": {},
   "outputs": [
    {
     "name": "stdout",
     "output_type": "stream",
     "text": [
      "14\n"
     ]
    },
    {
     "data": {
      "text/plain": [
       "[{'BranchNumber': '060905',\n",
       "  'CreatedAt': '2023-10-12T07:54:52.341153Z',\n",
       "  'DeletedAt': None,\n",
       "  'FacilityActive': True,\n",
       "  'FacilityAtCapacity': False,\n",
       "  'FacilityCourierCActive': True,\n",
       "  'FacilityBuffer': 1,\n",
       "  'FacilityCoordinates': '0101000020E6100000960A2AAA7E993240897E6DFDF4F340C0',\n",
       "  'FacilityID': '018a9335-7878-7fde-a9fd-57fc82d34963',\n",
       "  'FacilityProvince': 'Western Cape',\n",
       "  'FacilityRegion': 'LOCAL',\n",
       "  'FacilityReservedQty': 25,\n",
       "  'FacilitySKUActive': True,\n",
       "  'FacilitySubType': None,\n",
       "  'FacilityType': 'Store',\n",
       "  'Id': '018b22e1-9a33-7364-8177-56b97367756f',\n",
       "  'NormalisedSku': '06-60107365',\n",
       "  'OnHandQuantity': 3,\n",
       "  'QtyAvailable': 2,\n",
       "  'Sku': '60107365',\n",
       "  'StockSourceUpdatedAt': '2023-12-31T11:53:09Z',\n",
       "  'TradingCompanyNumber': '06',\n",
       "  'UpdatedAt': '2023-12-31T11:53:14.225731Z'}]"
      ]
     },
     "execution_count": 13,
     "metadata": {},
     "output_type": "execute_result"
    }
   ],
   "source": [
    "print(len(stocks))\n",
    "[ stock for stock in stocks if stock['BranchNumber'] == '060905']"
   ]
  },
  {
   "cell_type": "code",
   "execution_count": 14,
   "metadata": {},
   "outputs": [
    {
     "data": {
      "text/plain": [
       "{'allocation_id': '018cd7ee-fab0-77d9-b417-61fd0f96e865',\n",
       " 'cancellations': None,\n",
       " 'created_at': '2024-01-05T04:43:32.448771942Z',\n",
       " 'dry_run': False,\n",
       " 'external_order_reference': 'B4403050-01',\n",
       " 'order_id': 'b3ef66cf-1ee7-5a38-b607-049a1d151e0a',\n",
       " 'reservations': [{'alternative_sku': None,\n",
       "   'alternative_trading_company': None,\n",
       "   'branch_number': '060905',\n",
       "   'courier': 'courier_c',\n",
       "   'created_at': '2024-01-05T04:43:32.443897453Z',\n",
       "   'excluded_branches': None,\n",
       "   'omni_fulfilment_data': {'fulfilment_centre_code': 'STORE',\n",
       "    'fulfilment_centre_description': 'Stores',\n",
       "    'fulfilment_centre_id': 6},\n",
       "   'order_item_id': 'cb47a624-f2c6-5819-8a41-60685135920d',\n",
       "   'previous_reservation_ids': None,\n",
       "   'quantity': 1,\n",
       "   'reservation_id': '018cd7ee-fadb-77d9-acc0-cfc31a879d1c',\n",
       "   'sku': '60107365',\n",
       "   'trading_company_number': '06'}]}"
      ]
     },
     "execution_count": 14,
     "metadata": {},
     "output_type": "execute_result"
    }
   ],
   "source": [
    "plan"
   ]
  },
  {
   "cell_type": "markdown",
   "metadata": {},
   "source": [
    "# Testing Idea"
   ]
  },
  {
   "cell_type": "code",
   "execution_count": 15,
   "metadata": {},
   "outputs": [],
   "source": [
    "\n",
    "def get_wkb_coords(wkb_string):\n",
    "    \"\"\"decode wkb-hex string... extract the coordinates... return results... \"\"\"\n",
    "    geom = loads(bytes.fromhex(wkb_string))\n",
    "    coordinates = list(geom.coords)\n",
    "    return coordinates\n",
    "\n",
    "def _distance(lat1, lon1, lat2, lon2):\n",
    "  coords_1 = (lat1, lon1)\n",
    "  coords_2 = (lat2, lon2)\n",
    "  return geopy.distance.geodesic(coords_1, coords_2).km\n",
    "\n",
    "\n",
    "def haversine_distance(lat1, lon1, lat2, lon2):\n",
    "    \"\"\"convert lat and longitude to radians from degree... get difference between latitude and longitude... multiply value from haversine with earth radius in km ... return the distance in KM\"\"\"\n",
    "    lat1, lon1, lat2, lon2 = map(radians, [lat1, lon1, lat2, lon2])\n",
    "    radius_earth_km = 6371.0 # earth's radius based on google check\n",
    "\n",
    "    dlon = lon2 - lon1\n",
    "    dlat = lat2 - lat1\n",
    "    a = sin(dlat / 2) ** 2 + cos(lat1) * cos(lat2) * sin(dlon / 2) ** 2\n",
    "    c = 2 * atan2(sqrt(a), sqrt(1 - a))\n",
    "    distance = radius_earth_km * c\n",
    "    return distance"
   ]
  },
  {
   "cell_type": "code",
   "execution_count": 16,
   "metadata": {},
   "outputs": [
    {
     "data": {
      "text/plain": [
       "{'destination': {'branch_number': '',\n",
       "  'delivery_type': 'DoorToDoor',\n",
       "  'latitude': -34.0331987,\n",
       "  'longitude': 18.4902276,\n",
       "  'postal_code': '7880',\n",
       "  'province': 'Western Cape'},\n",
       " 'dry_run': False,\n",
       " 'external_order_reference': 'B4403050-01',\n",
       " 'items': [{'alternative_sku': None,\n",
       "   'alternative_trading_company': None,\n",
       "   'excluded_branches': None,\n",
       "   'order_item_id': 'cb47a624-f2c6-5819-8a41-60685135920d',\n",
       "   'previous_reservation_ids': None,\n",
       "   'quantity': 1,\n",
       "   'sku': '60107365',\n",
       "   'trading_company_number': '06'}],\n",
       " 'order_created_at': '2024-01-05T04:43:30.778689Z',\n",
       " 'order_id': 'b3ef66cf-1ee7-5a38-b607-049a1d151e0a'}"
      ]
     },
     "execution_count": 16,
     "metadata": {},
     "output_type": "execute_result"
    }
   ],
   "source": [
    "request"
   ]
  },
  {
   "cell_type": "markdown",
   "metadata": {},
   "source": [
    "### Add Dc_type to the request"
   ]
  },
  {
   "cell_type": "code",
   "execution_count": 17,
   "metadata": {},
   "outputs": [
    {
     "data": {
      "text/plain": [
       "32"
      ]
     },
     "execution_count": 17,
     "metadata": {},
     "output_type": "execute_result"
    }
   ],
   "source": [
    "dc_types = pd.read_csv(\"./data/dc_branch_numbers.csv\")\n",
    "dc_types_values = { f'{row[0]}' :row[1] for row in dc_types.values }\n",
    "len(dc_types_values.keys())"
   ]
  },
  {
   "cell_type": "code",
   "execution_count": 18,
   "metadata": {},
   "outputs": [
    {
     "data": {
      "text/plain": [
       "{'destination': {'branch_number': '',\n",
       "  'delivery_type': 'DoorToDoor',\n",
       "  'latitude': -34.0331987,\n",
       "  'longitude': 18.4902276,\n",
       "  'postal_code': '7880',\n",
       "  'province': 'Western Cape'},\n",
       " 'dry_run': False,\n",
       " 'external_order_reference': 'B4403050-01',\n",
       " 'items': [{'alternative_sku': None,\n",
       "   'alternative_trading_company': None,\n",
       "   'excluded_branches': None,\n",
       "   'order_item_id': 'cb47a624-f2c6-5819-8a41-60685135920d',\n",
       "   'previous_reservation_ids': None,\n",
       "   'quantity': 1,\n",
       "   'sku': '60107365',\n",
       "   'trading_company_number': '06'}],\n",
       " 'order_created_at': '2024-01-05T04:43:30.778689Z',\n",
       " 'order_id': 'b3ef66cf-1ee7-5a38-b607-049a1d151e0a'}"
      ]
     },
     "execution_count": 18,
     "metadata": {},
     "output_type": "execute_result"
    }
   ],
   "source": [
    "def add_dc_type_request(request_):\n",
    "    \"\"\"add a dc-type to the request for processing later\"\"\"\n",
    "    if request_:\n",
    "        delivery_type = request_[\"destination\"][\"delivery_type\"]\n",
    "        branch_number = request_[\"destination\"][\"branch_number\"]\n",
    "    # if the delivery type is [storepickup] but the branch number is not there, add it from dc_branch_number file\n",
    "    if delivery_type.lower() == \"storepickup\" and branch_number:\n",
    "        if branch_number in dc_types_values.keys():\n",
    "            request_[\"dc_type\"] = dc_types_values[branch_number]\n",
    "    return request_\n",
    "  \n",
    "request = add_dc_type_request(request)\n",
    "request"
   ]
  },
  {
   "cell_type": "markdown",
   "metadata": {},
   "source": [
    "### Get facilities with matched SKU"
   ]
  },
  {
   "cell_type": "code",
   "execution_count": 19,
   "metadata": {},
   "outputs": [
    {
     "data": {
      "text/plain": [
       "14"
      ]
     },
     "execution_count": 19,
     "metadata": {},
     "output_type": "execute_result"
    }
   ],
   "source": [
    "\n",
    "def _macthed_sku(stocks, request): \n",
    "    \"\"\"check if number items in request are more than 1. go over all the items. got over all stocks. check if sku matches and return ones where sku matches. make sure the facility is an active facility\"\"\"\n",
    "    facilities = []\n",
    "    # get all facilities with the item based on the sku\n",
    "    if len(request[\"items\"]) > 0: \n",
    "        for request_item in request[\"items\"]: \n",
    "            for stock in stocks:\n",
    "                if request_item[\"sku\"] == stock[\"Sku\"] and stock['FacilityActive'] == True : # make sure facility is active and not closed\n",
    "                    facilities.append(stock)\n",
    "    return facilities\n",
    "\n",
    "macthed_skus= _macthed_sku(stocks, request)\n",
    "len(macthed_skus)"
   ]
  },
  {
   "cell_type": "markdown",
   "metadata": {},
   "source": [
    "### Get facilities with available stocks"
   ]
  },
  {
   "cell_type": "code",
   "execution_count": 20,
   "metadata": {},
   "outputs": [
    {
     "data": {
      "text/plain": [
       "14"
      ]
     },
     "execution_count": 20,
     "metadata": {},
     "output_type": "execute_result"
    }
   ],
   "source": [
    "def _check_facility_quantity(macth_skus, request):\n",
    "  \"\"\"check the quantity of each item and return only those that have equal to or more quantity for those items\"\"\"\n",
    "  have_quantity = []\n",
    "  if len(request['items']) > 0 and len(macth_skus) > 0:\n",
    "    for request_item in request['items']:\n",
    "      for macth_sku in macth_skus:\n",
    "        if request_item['quantity'] <= macth_sku['QtyAvailable']:\n",
    "          have_quantity.append(macth_sku)  \n",
    "  # \n",
    "  return have_quantity if len(have_quantity) > 0 else None\n",
    "\n",
    "facility_check_quantity = _check_facility_quantity(macthed_skus, request)\n",
    "len(facility_check_quantity)"
   ]
  },
  {
   "cell_type": "markdown",
   "metadata": {},
   "source": [
    "### Add post codes to facilities"
   ]
  },
  {
   "cell_type": "code",
   "execution_count": 21,
   "metadata": {},
   "outputs": [
    {
     "data": {
      "text/html": [
       "<div>\n",
       "<style scoped>\n",
       "    .dataframe tbody tr th:only-of-type {\n",
       "        vertical-align: middle;\n",
       "    }\n",
       "\n",
       "    .dataframe tbody tr th {\n",
       "        vertical-align: top;\n",
       "    }\n",
       "\n",
       "    .dataframe thead th {\n",
       "        text-align: right;\n",
       "    }\n",
       "</style>\n",
       "<table border=\"1\" class=\"dataframe\">\n",
       "  <thead>\n",
       "    <tr style=\"text-align: right;\">\n",
       "      <th></th>\n",
       "      <th>facility_id</th>\n",
       "      <th>postal_code</th>\n",
       "    </tr>\n",
       "  </thead>\n",
       "  <tbody>\n",
       "    <tr>\n",
       "      <th>0</th>\n",
       "      <td>018a932e-eb07-7b94-9a2e-57c49789d242</td>\n",
       "      <td>0699</td>\n",
       "    </tr>\n",
       "    <tr>\n",
       "      <th>1</th>\n",
       "      <td>018a932e-ed02-7d06-8729-9dcf46b16ec6</td>\n",
       "      <td>0699</td>\n",
       "    </tr>\n",
       "    <tr>\n",
       "      <th>2</th>\n",
       "      <td>018a932e-ed91-7d99-a93f-a848baea846c</td>\n",
       "      <td>0699</td>\n",
       "    </tr>\n",
       "    <tr>\n",
       "      <th>3</th>\n",
       "      <td>018a932e-ee1d-7e27-b06c-275953125398</td>\n",
       "      <td>0699</td>\n",
       "    </tr>\n",
       "    <tr>\n",
       "      <th>4</th>\n",
       "      <td>018a932e-ee68-7e6d-9c5e-b7b4ceede07b</td>\n",
       "      <td>0699</td>\n",
       "    </tr>\n",
       "  </tbody>\n",
       "</table>\n",
       "</div>"
      ],
      "text/plain": [
       "                            facility_id postal_code\n",
       "0  018a932e-eb07-7b94-9a2e-57c49789d242        0699\n",
       "1  018a932e-ed02-7d06-8729-9dcf46b16ec6        0699\n",
       "2  018a932e-ed91-7d99-a93f-a848baea846c        0699\n",
       "3  018a932e-ee1d-7e27-b06c-275953125398        0699\n",
       "4  018a932e-ee68-7e6d-9c5e-b7b4ceede07b        0699"
      ]
     },
     "execution_count": 21,
     "metadata": {},
     "output_type": "execute_result"
    }
   ],
   "source": [
    "facility_post_codes_df = pd.read_csv(\"./data/bash_fcm_facilities.csv\")\n",
    "facility_post_codes_df.head()"
   ]
  },
  {
   "cell_type": "code",
   "execution_count": 22,
   "metadata": {},
   "outputs": [
    {
     "name": "stdout",
     "output_type": "stream",
     "text": [
      "(5957, 2)\n"
     ]
    },
    {
     "data": {
      "text/plain": [
       "5947"
      ]
     },
     "execution_count": 22,
     "metadata": {},
     "output_type": "execute_result"
    }
   ],
   "source": [
    "facility_post_codes_df[\"facility_id\"].drop_duplicates(\n",
    "    inplace=True\n",
    ")  # remove duplicates facility IDs\n",
    "print(facility_post_codes_df.shape)\n",
    "facility_post_codes_values = {\n",
    "    id: post_code for id, post_code in facility_post_codes_df.values\n",
    "}\n",
    "len(facility_post_codes_values.keys())"
   ]
  },
  {
   "cell_type": "code",
   "execution_count": 23,
   "metadata": {},
   "outputs": [
    {
     "data": {
      "text/plain": [
       "{'BranchNumber': '060293',\n",
       " 'CreatedAt': '2023-10-12T07:55:06.692344Z',\n",
       " 'DeletedAt': None,\n",
       " 'FacilityActive': True,\n",
       " 'FacilityAtCapacity': False,\n",
       " 'FacilityCourierCActive': False,\n",
       " 'FacilityBuffer': 1,\n",
       " 'FacilityCoordinates': '0101000020E6100000C1E61C3C13063F40B07614E7A8DB3DC0',\n",
       " 'FacilityID': '018a9334-a2ed-719c-8e47-1159956d8e18',\n",
       " 'FacilityProvince': 'KwaZulu-Natal',\n",
       " 'FacilityRegion': 'LOCAL',\n",
       " 'FacilityReservedQty': 17,\n",
       " 'FacilitySKUActive': True,\n",
       " 'FacilitySubType': None,\n",
       " 'FacilityType': 'Store',\n",
       " 'Id': '018b22e1-d243-7b5a-b3d6-fd1fc9e6d210',\n",
       " 'NormalisedSku': '06-60107365',\n",
       " 'OnHandQuantity': 4,\n",
       " 'QtyAvailable': 3,\n",
       " 'Sku': '60107365',\n",
       " 'StockSourceUpdatedAt': '2023-11-14T14:32:30Z',\n",
       " 'TradingCompanyNumber': '06',\n",
       " 'UpdatedAt': '2023-12-23T06:55:00.37904Z',\n",
       " 'post_code': '4001'}"
      ]
     },
     "execution_count": 23,
     "metadata": {},
     "output_type": "execute_result"
    }
   ],
   "source": [
    "def add_post_code_facility(filter_facilities):\n",
    "    \"\"\"\"\"\"\n",
    "    facility_post_code = []\n",
    "    for facility in filter_facilities:\n",
    "        if facility[\"FacilityID\"] in facility_post_codes_values.keys():\n",
    "            facility[\"post_code\"] = facility_post_codes_values[facility[\"FacilityID\"]]\n",
    "            facility_post_code.append(facility)\n",
    "    #\n",
    "    return facility_post_code\n",
    "\n",
    "facility_post_code = add_post_code_facility(facility_check_quantity)\n",
    "facility_post_code[0]"
   ]
  },
  {
   "cell_type": "markdown",
   "metadata": {},
   "source": [
    "### Calculate distance from facility to destination, if coords are provided"
   ]
  },
  {
   "cell_type": "code",
   "execution_count": 24,
   "metadata": {},
   "outputs": [
    {
     "data": {
      "text/plain": [
       "14"
      ]
     },
     "execution_count": 24,
     "metadata": {},
     "output_type": "execute_result"
    }
   ],
   "source": [
    "def _get_distance_dest_facility(request, filtered_facilities ):\n",
    "  \"\"\"return all facilities that have coords and there is a distance between distination and facility\"\"\"\n",
    "  distance_destination_facility = []\n",
    "  # check if the distination has coords\n",
    "  if len(request['items']) > 0 and request['destination']['latitude'] != None and request['destination']['longitude'] != None:\n",
    "    request_latitude, request_longitude = request['destination']['latitude'], request['destination']['longitude']\n",
    "    for facility in filtered_facilities:\n",
    "      # check if the facility has hex-wkb coordinates\n",
    "      if facility['FacilityCoordinates'] != None:\n",
    "        facility_coords = get_wkb_coords(facility['FacilityCoordinates'])\n",
    "        # calculate distance between distination and facility and store the distance in facility object\n",
    "        if facility_coords != None:\n",
    "          facility_latitude, facility_longitude = facility_coords[0]\n",
    "          # distance_to_destination = _distance(request_latitude, request_longitude, facility_latitude, facility_longitude)\n",
    "          distance_to_destination = haversine_distance( facility_latitude, facility_longitude, request_latitude, request_longitude)\n",
    "          facility['distance'] = distance_to_destination\n",
    "        else:\n",
    "          facility['distance'] = -1\n",
    "        distance_destination_facility.append(facility)      \n",
    "  # \n",
    "  return distance_destination_facility if len(distance_destination_facility) else filtered_facilities\n",
    "\n",
    "facility_with_distance = _get_distance_dest_facility(request, facility_post_code)\n",
    "len(facility_with_distance)\n",
    "# facility_with_distance"
   ]
  },
  {
   "cell_type": "markdown",
   "metadata": {},
   "source": [
    "### check if facility has courier_c in house and if can deliver based on distance constraint"
   ]
  },
  {
   "cell_type": "code",
   "execution_count": 25,
   "metadata": {},
   "outputs": [],
   "source": [
    "def _facility_courier_c(filtered_facility):\n",
    "  \"\"\"get all facilities that can deliver with courier_c\"\"\"\n",
    "  courier_c_facilities = []\n",
    "  if len(filtered_facility) > 0:\n",
    "    for facility in filtered_facility:\n",
    "      if facility['FacilityCourierCActive'] == True:\n",
    "        if facility['distance'] <= 20:\n",
    "          facility['20km'] = True\n",
    "        else:\n",
    "          facility['20km'] = False\n",
    "        courier_c_facilities.append(facility)\n",
    "      # else: print(\"no courier c\", facility)\n",
    "  return courier_c_facilities if len(courier_c_facilities) > 0 else filtered_facility\n",
    "\n",
    "facility_courier_c_active = _facility_courier_c(facility_with_distance)\n",
    "# facility_courier_c_active"
   ]
  },
  {
   "cell_type": "code",
   "execution_count": 26,
   "metadata": {},
   "outputs": [
    {
     "data": {
      "text/html": [
       "<div>\n",
       "<style scoped>\n",
       "    .dataframe tbody tr th:only-of-type {\n",
       "        vertical-align: middle;\n",
       "    }\n",
       "\n",
       "    .dataframe tbody tr th {\n",
       "        vertical-align: top;\n",
       "    }\n",
       "\n",
       "    .dataframe thead th {\n",
       "        text-align: right;\n",
       "    }\n",
       "</style>\n",
       "<table border=\"1\" class=\"dataframe\">\n",
       "  <thead>\n",
       "    <tr style=\"text-align: right;\">\n",
       "      <th></th>\n",
       "      <th>PostalCode</th>\n",
       "      <th>HubID</th>\n",
       "      <th>LMR</th>\n",
       "      <th>CourierId</th>\n",
       "    </tr>\n",
       "  </thead>\n",
       "  <tbody>\n",
       "    <tr>\n",
       "      <th>0</th>\n",
       "      <td>1</td>\n",
       "      <td>pta</td>\n",
       "      <td>local</td>\n",
       "      <td>courier_a</td>\n",
       "    </tr>\n",
       "    <tr>\n",
       "      <th>1</th>\n",
       "      <td>2</td>\n",
       "      <td>pta</td>\n",
       "      <td>local</td>\n",
       "      <td>courier_a</td>\n",
       "    </tr>\n",
       "    <tr>\n",
       "      <th>2</th>\n",
       "      <td>3</td>\n",
       "      <td>pta</td>\n",
       "      <td>local</td>\n",
       "      <td>courier_a</td>\n",
       "    </tr>\n",
       "    <tr>\n",
       "      <th>3</th>\n",
       "      <td>4</td>\n",
       "      <td>pta</td>\n",
       "      <td>local</td>\n",
       "      <td>courier_a</td>\n",
       "    </tr>\n",
       "    <tr>\n",
       "      <th>4</th>\n",
       "      <td>5</td>\n",
       "      <td>pta</td>\n",
       "      <td>local</td>\n",
       "      <td>courier_a</td>\n",
       "    </tr>\n",
       "  </tbody>\n",
       "</table>\n",
       "</div>"
      ],
      "text/plain": [
       "   PostalCode HubID    LMR  CourierId\n",
       "0           1   pta  local  courier_a\n",
       "1           2   pta  local  courier_a\n",
       "2           3   pta  local  courier_a\n",
       "3           4   pta  local  courier_a\n",
       "4           5   pta  local  courier_a"
      ]
     },
     "execution_count": 26,
     "metadata": {},
     "output_type": "execute_result"
    }
   ],
   "source": [
    "# load courier post codes mapping\n",
    "courier_post_code_hubid_df = pd.read_csv(\"./data/courier_post_code_mapping.csv\")\n",
    "# normalise entries\n",
    "courier_post_code_hubid_df['HubID'] = courier_post_code_hubid_df['HubID'].apply( lambda x : str(x).lower() )\n",
    "courier_post_code_hubid_df['LMR'] = courier_post_code_hubid_df['LMR'].apply( lambda x : str(x).lower() )\n",
    "courier_post_code_hubid_df['CourierId'] = courier_post_code_hubid_df['CourierId'].apply( lambda x : str(x).lower() )\n",
    "courier_post_code_hubid_df.head()"
   ]
  },
  {
   "cell_type": "code",
   "execution_count": 27,
   "metadata": {},
   "outputs": [
    {
     "data": {
      "text/html": [
       "<div>\n",
       "<style scoped>\n",
       "    .dataframe tbody tr th:only-of-type {\n",
       "        vertical-align: middle;\n",
       "    }\n",
       "\n",
       "    .dataframe tbody tr th {\n",
       "        vertical-align: top;\n",
       "    }\n",
       "\n",
       "    .dataframe thead th {\n",
       "        text-align: right;\n",
       "    }\n",
       "</style>\n",
       "<table border=\"1\" class=\"dataframe\">\n",
       "  <thead>\n",
       "    <tr style=\"text-align: right;\">\n",
       "      <th></th>\n",
       "      <th>delivery_type</th>\n",
       "      <th>courier_id</th>\n",
       "      <th>lmr</th>\n",
       "      <th>cost</th>\n",
       "    </tr>\n",
       "  </thead>\n",
       "  <tbody>\n",
       "    <tr>\n",
       "      <th>0</th>\n",
       "      <td>doortodoor</td>\n",
       "      <td>courier_a</td>\n",
       "      <td>local</td>\n",
       "      <td>46</td>\n",
       "    </tr>\n",
       "    <tr>\n",
       "      <th>1</th>\n",
       "      <td>doortodoor</td>\n",
       "      <td>courier_a</td>\n",
       "      <td>main</td>\n",
       "      <td>69</td>\n",
       "    </tr>\n",
       "    <tr>\n",
       "      <th>2</th>\n",
       "      <td>doortodoor</td>\n",
       "      <td>courier_a</td>\n",
       "      <td>regional</td>\n",
       "      <td>87</td>\n",
       "    </tr>\n",
       "    <tr>\n",
       "      <th>3</th>\n",
       "      <td>doortodoor</td>\n",
       "      <td>courier_b</td>\n",
       "      <td>local</td>\n",
       "      <td>55</td>\n",
       "    </tr>\n",
       "    <tr>\n",
       "      <th>4</th>\n",
       "      <td>doortodoor</td>\n",
       "      <td>courier_b</td>\n",
       "      <td>main</td>\n",
       "      <td>72</td>\n",
       "    </tr>\n",
       "  </tbody>\n",
       "</table>\n",
       "</div>"
      ],
      "text/plain": [
       "  delivery_type courier_id       lmr  cost\n",
       "0    doortodoor  courier_a     local    46\n",
       "1    doortodoor  courier_a      main    69\n",
       "2    doortodoor  courier_a  regional    87\n",
       "3    doortodoor  courier_b     local    55\n",
       "4    doortodoor  courier_b      main    72"
      ]
     },
     "execution_count": 27,
     "metadata": {},
     "output_type": "execute_result"
    }
   ],
   "source": [
    "courier_costs_df = pd.read_csv(\"./data/courier_costs.csv\")\n",
    "# normalise text entries\n",
    "courier_costs_df['courier_id'] = courier_costs_df['courier_id'].apply( lambda x : x.lower()) \n",
    "courier_costs_df['delivery_type'] = courier_costs_df['delivery_type'].apply( lambda x : x.lower())\n",
    "courier_costs_df['lmr'] = courier_costs_df['lmr'].apply( lambda x : x.lower())\n",
    "courier_costs_df.head()"
   ]
  },
  {
   "cell_type": "code",
   "execution_count": 28,
   "metadata": {},
   "outputs": [
    {
     "data": {
      "text/html": [
       "<div>\n",
       "<style scoped>\n",
       "    .dataframe tbody tr th:only-of-type {\n",
       "        vertical-align: middle;\n",
       "    }\n",
       "\n",
       "    .dataframe tbody tr th {\n",
       "        vertical-align: top;\n",
       "    }\n",
       "\n",
       "    .dataframe thead th {\n",
       "        text-align: right;\n",
       "    }\n",
       "</style>\n",
       "<table border=\"1\" class=\"dataframe\">\n",
       "  <thead>\n",
       "    <tr style=\"text-align: right;\">\n",
       "      <th></th>\n",
       "      <th>delivery_type</th>\n",
       "      <th>courier_id</th>\n",
       "      <th>lmr</th>\n",
       "      <th>cost</th>\n",
       "    </tr>\n",
       "  </thead>\n",
       "  <tbody>\n",
       "    <tr>\n",
       "      <th>6</th>\n",
       "      <td>doortodoor</td>\n",
       "      <td>courier_c</td>\n",
       "      <td>local</td>\n",
       "      <td>20</td>\n",
       "    </tr>\n",
       "    <tr>\n",
       "      <th>7</th>\n",
       "      <td>doortodoor</td>\n",
       "      <td>courier_c</td>\n",
       "      <td>main</td>\n",
       "      <td>10000</td>\n",
       "    </tr>\n",
       "    <tr>\n",
       "      <th>8</th>\n",
       "      <td>doortodoor</td>\n",
       "      <td>courier_c</td>\n",
       "      <td>regional</td>\n",
       "      <td>10000</td>\n",
       "    </tr>\n",
       "    <tr>\n",
       "      <th>15</th>\n",
       "      <td>storepickup</td>\n",
       "      <td>courier_c</td>\n",
       "      <td>local</td>\n",
       "      <td>10000</td>\n",
       "    </tr>\n",
       "    <tr>\n",
       "      <th>16</th>\n",
       "      <td>storepickup</td>\n",
       "      <td>courier_c</td>\n",
       "      <td>main</td>\n",
       "      <td>10000</td>\n",
       "    </tr>\n",
       "    <tr>\n",
       "      <th>17</th>\n",
       "      <td>storepickup</td>\n",
       "      <td>courier_c</td>\n",
       "      <td>regional</td>\n",
       "      <td>10000</td>\n",
       "    </tr>\n",
       "  </tbody>\n",
       "</table>\n",
       "</div>"
      ],
      "text/plain": [
       "   delivery_type courier_id       lmr   cost\n",
       "6     doortodoor  courier_c     local     20\n",
       "7     doortodoor  courier_c      main  10000\n",
       "8     doortodoor  courier_c  regional  10000\n",
       "15   storepickup  courier_c     local  10000\n",
       "16   storepickup  courier_c      main  10000\n",
       "17   storepickup  courier_c  regional  10000"
      ]
     },
     "execution_count": 28,
     "metadata": {},
     "output_type": "execute_result"
    }
   ],
   "source": [
    "filter_based_on_courier_c = courier_costs_df[ courier_costs_df['courier_id'] == 'courier_c' ]\n",
    "filter_based_on_courier_c"
   ]
  },
  {
   "cell_type": "code",
   "execution_count": 29,
   "metadata": {},
   "outputs": [
    {
     "data": {
      "text/html": [
       "<div>\n",
       "<style scoped>\n",
       "    .dataframe tbody tr th:only-of-type {\n",
       "        vertical-align: middle;\n",
       "    }\n",
       "\n",
       "    .dataframe tbody tr th {\n",
       "        vertical-align: top;\n",
       "    }\n",
       "\n",
       "    .dataframe thead th {\n",
       "        text-align: right;\n",
       "    }\n",
       "</style>\n",
       "<table border=\"1\" class=\"dataframe\">\n",
       "  <thead>\n",
       "    <tr style=\"text-align: right;\">\n",
       "      <th></th>\n",
       "      <th>PostalCode</th>\n",
       "      <th>HubID</th>\n",
       "      <th>LMR</th>\n",
       "      <th>CourierId</th>\n",
       "    </tr>\n",
       "  </thead>\n",
       "  <tbody>\n",
       "    <tr>\n",
       "      <th>0</th>\n",
       "      <td>1</td>\n",
       "      <td>pta</td>\n",
       "      <td>local</td>\n",
       "      <td>courier_a</td>\n",
       "    </tr>\n",
       "    <tr>\n",
       "      <th>1</th>\n",
       "      <td>2</td>\n",
       "      <td>pta</td>\n",
       "      <td>local</td>\n",
       "      <td>courier_a</td>\n",
       "    </tr>\n",
       "    <tr>\n",
       "      <th>2</th>\n",
       "      <td>3</td>\n",
       "      <td>pta</td>\n",
       "      <td>local</td>\n",
       "      <td>courier_a</td>\n",
       "    </tr>\n",
       "    <tr>\n",
       "      <th>3</th>\n",
       "      <td>4</td>\n",
       "      <td>pta</td>\n",
       "      <td>local</td>\n",
       "      <td>courier_a</td>\n",
       "    </tr>\n",
       "    <tr>\n",
       "      <th>4</th>\n",
       "      <td>5</td>\n",
       "      <td>pta</td>\n",
       "      <td>local</td>\n",
       "      <td>courier_a</td>\n",
       "    </tr>\n",
       "    <tr>\n",
       "      <th>...</th>\n",
       "      <td>...</td>\n",
       "      <td>...</td>\n",
       "      <td>...</td>\n",
       "      <td>...</td>\n",
       "    </tr>\n",
       "    <tr>\n",
       "      <th>12139</th>\n",
       "      <td>7606</td>\n",
       "      <td>otd</td>\n",
       "      <td>regional</td>\n",
       "      <td>courier_b</td>\n",
       "    </tr>\n",
       "    <tr>\n",
       "      <th>12140</th>\n",
       "      <td>8259</td>\n",
       "      <td>otd</td>\n",
       "      <td>regional</td>\n",
       "      <td>courier_b</td>\n",
       "    </tr>\n",
       "    <tr>\n",
       "      <th>12141</th>\n",
       "      <td>8379</td>\n",
       "      <td>otd</td>\n",
       "      <td>regional</td>\n",
       "      <td>courier_b</td>\n",
       "    </tr>\n",
       "    <tr>\n",
       "      <th>12142</th>\n",
       "      <td>8660</td>\n",
       "      <td>otd</td>\n",
       "      <td>regional</td>\n",
       "      <td>courier_b</td>\n",
       "    </tr>\n",
       "    <tr>\n",
       "      <th>12143</th>\n",
       "      <td>9960</td>\n",
       "      <td>otd</td>\n",
       "      <td>regional</td>\n",
       "      <td>courier_b</td>\n",
       "    </tr>\n",
       "  </tbody>\n",
       "</table>\n",
       "<p>12144 rows × 4 columns</p>\n",
       "</div>"
      ],
      "text/plain": [
       "       PostalCode HubID       LMR  CourierId\n",
       "0               1   pta     local  courier_a\n",
       "1               2   pta     local  courier_a\n",
       "2               3   pta     local  courier_a\n",
       "3               4   pta     local  courier_a\n",
       "4               5   pta     local  courier_a\n",
       "...           ...   ...       ...        ...\n",
       "12139        7606   otd  regional  courier_b\n",
       "12140        8259   otd  regional  courier_b\n",
       "12141        8379   otd  regional  courier_b\n",
       "12142        8660   otd  regional  courier_b\n",
       "12143        9960   otd  regional  courier_b\n",
       "\n",
       "[12144 rows x 4 columns]"
      ]
     },
     "execution_count": 29,
     "metadata": {},
     "output_type": "execute_result"
    }
   ],
   "source": [
    "courier_post_code_hubid_df"
   ]
  },
  {
   "cell_type": "code",
   "execution_count": 30,
   "metadata": {},
   "outputs": [
    {
     "data": {
      "text/plain": [
       "{'BranchNumber': '060293',\n",
       " 'CreatedAt': '2023-10-12T07:55:06.692344Z',\n",
       " 'DeletedAt': None,\n",
       " 'FacilityActive': True,\n",
       " 'FacilityAtCapacity': False,\n",
       " 'FacilityCourierCActive': False,\n",
       " 'FacilityBuffer': 1,\n",
       " 'FacilityCoordinates': '0101000020E6100000C1E61C3C13063F40B07614E7A8DB3DC0',\n",
       " 'FacilityID': '018a9334-a2ed-719c-8e47-1159956d8e18',\n",
       " 'FacilityProvince': 'KwaZulu-Natal',\n",
       " 'FacilityRegion': 'LOCAL',\n",
       " 'FacilityReservedQty': 17,\n",
       " 'FacilitySKUActive': True,\n",
       " 'FacilitySubType': None,\n",
       " 'FacilityType': 'Store',\n",
       " 'Id': '018b22e1-d243-7b5a-b3d6-fd1fc9e6d210',\n",
       " 'NormalisedSku': '06-60107365',\n",
       " 'OnHandQuantity': 4,\n",
       " 'QtyAvailable': 3,\n",
       " 'Sku': '60107365',\n",
       " 'StockSourceUpdatedAt': '2023-11-14T14:32:30Z',\n",
       " 'TradingCompanyNumber': '06',\n",
       " 'UpdatedAt': '2023-12-23T06:55:00.37904Z',\n",
       " 'post_code': '4001',\n",
       " 'distance': 8831.624094101355,\n",
       " 'post_code_lmr': 'main',\n",
       " 'hubid': 'cpt'}"
      ]
     },
     "execution_count": 30,
     "metadata": {},
     "output_type": "execute_result"
    }
   ],
   "source": [
    "# add lmr to the facilities\n",
    "def _add_lmr_facility(filter_facility):\n",
    "  \"\"\"  \"\"\"\n",
    "  facilities = []\n",
    "  for facility in filter_facility:\n",
    "    facility_hub_lmr = courier_post_code_hubid_df[ (courier_post_code_hubid_df['PostalCode'] == int(facility['post_code'])) & ( courier_post_code_hubid_df['CourierId'] == 'courier_c') ]\n",
    "    facility['post_code_lmr'] = facility_hub_lmr.values[0][2]\n",
    "    facility['hubid'] = facility_hub_lmr.values[0][1]\n",
    "    facilities.append(facility)\n",
    "  return facilities\n",
    "\n",
    "facility_lmr = _add_lmr_facility(facility_post_code)\n",
    "facility_lmr[0]"
   ]
  },
  {
   "cell_type": "markdown",
   "metadata": {},
   "source": [
    "### Add Courier with their respective costs"
   ]
  },
  {
   "cell_type": "code",
   "execution_count": 31,
   "metadata": {},
   "outputs": [
    {
     "data": {
      "text/plain": [
       "{'destination': {'branch_number': '',\n",
       "  'delivery_type': 'DoorToDoor',\n",
       "  'latitude': -34.0331987,\n",
       "  'longitude': 18.4902276,\n",
       "  'postal_code': '7880',\n",
       "  'province': 'Western Cape'},\n",
       " 'dry_run': False,\n",
       " 'external_order_reference': 'B4403050-01',\n",
       " 'items': [{'alternative_sku': None,\n",
       "   'alternative_trading_company': None,\n",
       "   'excluded_branches': None,\n",
       "   'order_item_id': 'cb47a624-f2c6-5819-8a41-60685135920d',\n",
       "   'previous_reservation_ids': None,\n",
       "   'quantity': 1,\n",
       "   'sku': '60107365',\n",
       "   'trading_company_number': '06'}],\n",
       " 'order_created_at': '2024-01-05T04:43:30.778689Z',\n",
       " 'order_id': 'b3ef66cf-1ee7-5a38-b607-049a1d151e0a'}"
      ]
     },
     "execution_count": 31,
     "metadata": {},
     "output_type": "execute_result"
    }
   ],
   "source": [
    "request"
   ]
  },
  {
   "cell_type": "code",
   "execution_count": 32,
   "metadata": {},
   "outputs": [],
   "source": [
    "# filter_courier_c_delivery_type = filter_based_on_courier_c[filter_based_on_courier_c['delivery_type'] == request_delivery_type ]\n",
    "# filter_courier_c_delivery_type"
   ]
  },
  {
   "cell_type": "code",
   "execution_count": 33,
   "metadata": {},
   "outputs": [
    {
     "data": {
      "text/plain": [
       "{'BranchNumber': '060293',\n",
       " 'CreatedAt': '2023-10-12T07:55:06.692344Z',\n",
       " 'DeletedAt': None,\n",
       " 'FacilityActive': True,\n",
       " 'FacilityAtCapacity': False,\n",
       " 'FacilityCourierCActive': False,\n",
       " 'FacilityBuffer': 1,\n",
       " 'FacilityCoordinates': '0101000020E6100000C1E61C3C13063F40B07614E7A8DB3DC0',\n",
       " 'FacilityID': '018a9334-a2ed-719c-8e47-1159956d8e18',\n",
       " 'FacilityProvince': 'KwaZulu-Natal',\n",
       " 'FacilityRegion': 'LOCAL',\n",
       " 'FacilityReservedQty': 17,\n",
       " 'FacilitySKUActive': True,\n",
       " 'FacilitySubType': None,\n",
       " 'FacilityType': 'Store',\n",
       " 'Id': '018b22e1-d243-7b5a-b3d6-fd1fc9e6d210',\n",
       " 'NormalisedSku': '06-60107365',\n",
       " 'OnHandQuantity': 4,\n",
       " 'QtyAvailable': 3,\n",
       " 'Sku': '60107365',\n",
       " 'StockSourceUpdatedAt': '2023-11-14T14:32:30Z',\n",
       " 'TradingCompanyNumber': '06',\n",
       " 'UpdatedAt': '2023-12-23T06:55:00.37904Z',\n",
       " 'post_code': '4001',\n",
       " 'distance': 8831.624094101355,\n",
       " 'post_code_lmr': 'main',\n",
       " 'hubid': 'cpt'}"
      ]
     },
     "execution_count": 33,
     "metadata": {},
     "output_type": "execute_result"
    }
   ],
   "source": [
    "facility_lmr[0]"
   ]
  },
  {
   "cell_type": "code",
   "execution_count": 34,
   "metadata": {},
   "outputs": [
    {
     "name": "stdout",
     "output_type": "stream",
     "text": [
      "8\n",
      "8\n",
      "8\n",
      "8\n",
      "this is C, 0\n"
     ]
    }
   ],
   "source": [
    "# add posible couriers to the facilities\n",
    "\n",
    "# add cost of using courie_c for facilities with courier C\n",
    "request_delivery_type = request['destination']['delivery_type'].lower()\n",
    "request_post_code = request['destination']['postal_code']\n",
    "\n",
    "facility_cost_del = [] # \n",
    "c = 0\n",
    "\n",
    "for facility in facility_lmr:\n",
    "  # add the cost of each courier to the array\n",
    "  '''courier_c is only able to fulfil parcels from facilities with FacilityCourierCActive = True, and to customer addresses that fall within 20km of any Courier C Active facilities'''\n",
    "  if facility['FacilityCourierCActive'] == True:\n",
    "    # match the courier in the cost dataset\n",
    "    filter_based_on_courier_c = courier_costs_df[ courier_costs_df['courier_id'] == 'courier_c' ]\n",
    "    # extract courier bases on delivery type\n",
    "    courier_cost_delivery_type = filter_based_on_courier_c[filter_based_on_courier_c['delivery_type'] == request_delivery_type]\n",
    "    # print(courier_cost_delivery_type)\n",
    "    # check LMR of destination\n",
    "    destination_post_code_lmr_hubid = courier_post_code_hubid_df[\n",
    "        (courier_post_code_hubid_df[\"CourierId\"] == \"courier_c\")\n",
    "        & (courier_post_code_hubid_df[\"PostalCode\"] == int(request_post_code))\n",
    "    ]\n",
    "    # \n",
    "    facility_post_code_lmr_hubid = courier_post_code_hubid_df[\n",
    "        (courier_post_code_hubid_df[\"CourierId\"] == \"courier_c\")\n",
    "        & (courier_post_code_hubid_df[\"PostalCode\"] == int(facility['post_code']))\n",
    "    ]\n",
    "    # check the lrm of the destination and the facility\n",
    "    if len(facility_post_code_lmr_hubid) > 0 and len(destination_post_code_lmr_hubid) > 0:\n",
    "      destination_postcode_rel_hub = destination_post_code_lmr_hubid['LMR'].values[0]\n",
    "      destination_postcode_rel_hub_id = destination_post_code_lmr_hubid['HubID'].values[0]\n",
    "      # \n",
    "      facility_postcode_rel_hub = facility_post_code_lmr_hubid['LMR'].values[0]\n",
    "      facility_postcode_rel_hub_id = facility_post_code_lmr_hubid['HubID'].values[0]\n",
    "      # if the lmr are the same and the hubid are the same\n",
    "      if destination_postcode_rel_hub == facility_postcode_rel_hub and destination_postcode_rel_hub_id == facility_postcode_rel_hub_id:\n",
    "      # if False: # testings\n",
    "        _lmr = destination_post_code_lmr_hubid['LMR'].values[0]\n",
    "        # print( courier_cost_delivery_type[courier_cost_delivery_type['lmr'] == _lmr].values[0] )\n",
    "        cost_info = courier_cost_delivery_type[courier_cost_delivery_type['lmr'] == _lmr].values[0]\n",
    "        facility['courier'] = f\"{cost_info[1]} {cost_info[3]}\"\n",
    "      # \n",
    "      # if the lmr of destination and facility is not the same\n",
    "      else:\n",
    "        if destination_postcode_rel_hub.lower() == 'regional' or facility_postcode_rel_hub.lower() == 'regional':\n",
    "          cost_info = courier_cost_delivery_type[courier_cost_delivery_type['lmr'] == 'regional'].values[0]\n",
    "          facility['courier'] = f\"{cost_info[1]} {cost_info[3]}\"\n",
    "        # \n",
    "        # If the postcode is either Local or Main relative to the hub, and the parcel needs to be collected from one hub and delivered to a different hub, the overall route is classified as Main\n",
    "        elif destination_postcode_rel_hub.lower() == 'local' or destination_postcode_rel_hub.lower() == 'local' or facility_postcode_rel_hub.lower() == 'main' or facility_postcode_rel_hub.lower() == 'main':\n",
    "          # If the postcode is either “Local” or “Main” relative to its closest hub, and the parcel needs to be collected and delivered in the same hub, the overall route is classified as “Local”\n",
    "          if facility_postcode_rel_hub_id == destination_postcode_rel_hub_id:\n",
    "            cost_info = courier_cost_delivery_type[courier_cost_delivery_type['lmr'] == 'main'].values[0]\n",
    "            facility['courier'] = f\"{cost_info[1]} {cost_info[3]}\"\n",
    "          else:\n",
    "              cost_info = courier_cost_delivery_type[courier_cost_delivery_type['lmr'] == 'local'].values[0]\n",
    "              facility['courier'] = f\"{cost_info[1]} {cost_info[3]}\"\n",
    "    else:\n",
    "      pass\n",
    "  # \n",
    "  # check for courier b or courier a\n",
    "  else:\n",
    "    # match the courier in the cost dataset\n",
    "    filter_based_on_courier = courier_costs_df[ (courier_costs_df['courier_id'] == 'courier_a')  ]\n",
    "    filter_based_on_courier_b = courier_costs_df[ (courier_costs_df['courier_id'] == 'courier_b')  ]\n",
    "    # \n",
    "    if len(filter_based_on_courier) > 0:\n",
    "      # \n",
    "      # extract courier bases on delivery type\n",
    "      # print(\"trfcyvgubhijnokml;,'..............\", request_delivery_type)\n",
    "      # print(filter_based_on_courier_c['delivery_type'] == request_delivery_type)\n",
    "      courier_cost_delivery_type = filter_based_on_courier[filter_based_on_courier['delivery_type'] == request_delivery_type]\n",
    "      # check LMR of destination\n",
    "      destination_post_code_lmr_hubid = courier_post_code_hubid_df[\n",
    "          (courier_post_code_hubid_df[\"CourierId\"] == \"courier_a\")\n",
    "          & (courier_post_code_hubid_df[\"PostalCode\"] == int(request_post_code))\n",
    "      ]\n",
    "      # \n",
    "      facility_post_code_lmr_hubid = courier_post_code_hubid_df[\n",
    "          (courier_post_code_hubid_df[\"CourierId\"] == \"courier_a\")\n",
    "          & (courier_post_code_hubid_df[\"PostalCode\"] == int(facility['post_code']))\n",
    "      ]\n",
    "      # check the lrm of the destination and the facility\n",
    "      if len(facility_post_code_lmr_hubid) > 0 and len(destination_post_code_lmr_hubid) > 0:\n",
    "        destination_postcode_rel_hub = destination_post_code_lmr_hubid['LMR'].values[0]\n",
    "        destination_postcode_rel_hub_id = destination_post_code_lmr_hubid['HubID'].values[0]\n",
    "        # \n",
    "        facility_postcode_rel_hub = facility_post_code_lmr_hubid['LMR'].values[0]\n",
    "        facility_postcode_rel_hub_id = facility_post_code_lmr_hubid['HubID'].values[0]\n",
    "        # if the lmr are the same and the hubid are the same\n",
    "        if destination_postcode_rel_hub == facility_postcode_rel_hub and destination_postcode_rel_hub_id == facility_postcode_rel_hub_id:\n",
    "        # if False: # test caverage\n",
    "          _lmr = destination_post_code_lmr_hubid['LMR'].values[0]\n",
    "          # print( courier_cost_delivery_type[courier_cost_delivery_type['lmr'] == _lmr].values[0] )\n",
    "          cost_info = courier_cost_delivery_type[courier_cost_delivery_type['lmr'] == _lmr].values[0]\n",
    "          facility['courier'] = f\"{cost_info[1]} {cost_info[3]}\"\n",
    "        # \n",
    "        # if the lmr of destination and facility is not the same\n",
    "        else:\n",
    "          if destination_postcode_rel_hub.lower() == 'regional' or facility_postcode_rel_hub.lower() == 'regional':\n",
    "            cost_info = courier_cost_delivery_type[courier_cost_delivery_type['lmr'] == 'regional'].values[0]\n",
    "            facility['courier'] = f\"{cost_info[1]} {cost_info[3]}\"\n",
    "          # \n",
    "          # If the postcode is either Local or Main relative to the hub, and the parcel needs to be collected from one hub and delivered to a different hub, the overall route is classified as Main\n",
    "          elif destination_postcode_rel_hub.lower() == 'local' or destination_postcode_rel_hub.lower() == 'local' or facility_postcode_rel_hub.lower() == 'main' or facility_postcode_rel_hub.lower() == 'main':\n",
    "            # If the postcode is either “Local” or “Main” relative to its closest hub, and the parcel needs to be collected and delivered in the same hub, the overall route is classified as “Local”\n",
    "            if facility_postcode_rel_hub_id == destination_postcode_rel_hub_id:\n",
    "              cost_info = courier_cost_delivery_type[courier_cost_delivery_type['lmr'] == 'main'].values[0]\n",
    "              facility['courier'] = f\"{cost_info[1]} {cost_info[3]}\"\n",
    "            else:\n",
    "                cost_info = courier_cost_delivery_type[courier_cost_delivery_type['lmr'] == 'local'].values[0]\n",
    "                facility['courier'] = f\"{cost_info[1]} {cost_info[3]}\"\n",
    "          else:\n",
    "            print('8')\n",
    "      else:\n",
    "        print(\"97\")\n",
    "    # \n",
    "    # for b\n",
    "    elif len(filter_based_on_courier_b) > 0 and  len(request['destination']['branch_number']) > 0  and request['dc_type'] == 'dc_b' :\n",
    "      # \n",
    "      # extract courier bases on delivery type\n",
    "      courier_cost_delivery_type = filter_based_on_courier_b[filter_based_on_courier_b['delivery_type'] == request_delivery_type]\n",
    "      # check LMR of destination\n",
    "      destination_post_code_lmr_hubid = courier_post_code_hubid_df[\n",
    "          (courier_post_code_hubid_df[\"CourierId\"] == \"courier_a\")\n",
    "          & (courier_post_code_hubid_df[\"PostalCode\"] == int(request_post_code))\n",
    "      ]\n",
    "      # \n",
    "      facility_post_code_lmr_hubid = courier_post_code_hubid_df[\n",
    "          (courier_post_code_hubid_df[\"CourierId\"] == \"courier_a\")\n",
    "          & (courier_post_code_hubid_df[\"PostalCode\"] == int(facility['post_code']))\n",
    "      ]\n",
    "      # check the lrm of the destination and the facility\n",
    "      if len(facility_post_code_lmr_hubid) > 0 and len(destination_post_code_lmr_hubid) > 0:\n",
    "        destination_postcode_rel_hub = destination_post_code_lmr_hubid['LMR'].values[0]\n",
    "        destination_postcode_rel_hub_id = destination_post_code_lmr_hubid['HubID'].values[0]\n",
    "        # \n",
    "        facility_postcode_rel_hub = facility_post_code_lmr_hubid['LMR'].values[0]\n",
    "        facility_postcode_rel_hub_id = facility_post_code_lmr_hubid['HubID'].values[0]\n",
    "        # if the lmr are the same and the hubid are the same\n",
    "        if destination_postcode_rel_hub == facility_postcode_rel_hub and destination_postcode_rel_hub_id == facility_postcode_rel_hub_id:\n",
    "        # if False: # test caverage\n",
    "          _lmr = destination_post_code_lmr_hubid['LMR'].values[0]\n",
    "          # print( courier_cost_delivery_type[courier_cost_delivery_type['lmr'] == _lmr].values[0] )\n",
    "          cost_info = courier_cost_delivery_type[courier_cost_delivery_type['lmr'] == _lmr].values[0]\n",
    "          facility['courier'] = f\"{cost_info[1]} {cost_info[3]}\"\n",
    "        # \n",
    "        # if the lmr of destination and facility is not the same\n",
    "        else:\n",
    "          if destination_postcode_rel_hub.lower() == 'regional' or facility_postcode_rel_hub.lower() == 'regional':\n",
    "            cost_info = courier_cost_delivery_type[courier_cost_delivery_type['lmr'] == 'regional'].values[0]\n",
    "            facility['courier'] = f\"{cost_info[1]} {cost_info[3]}\"\n",
    "          # \n",
    "          # If the postcode is either Local or Main relative to the hub, and the parcel needs to be collected from one hub and delivered to a different hub, the overall route is classified as Main\n",
    "          elif destination_postcode_rel_hub.lower() == 'local' or destination_postcode_rel_hub.lower() == 'local' or facility_postcode_rel_hub.lower() == 'main' or facility_postcode_rel_hub.lower() == 'main':\n",
    "            # If the postcode is either “Local” or “Main” relative to its closest hub, and the parcel needs to be collected and delivered in the same hub, the overall route is classified as “Local”\n",
    "            if facility_postcode_rel_hub_id == destination_postcode_rel_hub_id:\n",
    "              cost_info = courier_cost_delivery_type[courier_cost_delivery_type['lmr'] == 'main'].values[0]\n",
    "              facility['courier'] = f\"{cost_info[1]} {cost_info[3]}\"\n",
    "            else:\n",
    "                cost_info = courier_cost_delivery_type[courier_cost_delivery_type['lmr'] == 'local'].values[0]\n",
    "                facility['courier'] = f\"{cost_info[1]} {cost_info[3]}\"\n",
    "          else: print(\"9\")\n",
    "      else:\n",
    "        print(\"10\")\n",
    "    else: \n",
    "      # print(\"11\")\n",
    "      # pprint.pprint(request)\n",
    "      # print(\"\\n\\n\\n\")\n",
    "      # pprint.pprint(facility)\n",
    "      c += 1\n",
    "      \n",
    "  # add facility to filter facilities\n",
    "  facility_cost_del.append(facility)\n",
    "\n",
    "print(f\"this is C, {c}\")"
   ]
  },
  {
   "cell_type": "markdown",
   "metadata": {},
   "source": [
    "### Filter base on price"
   ]
  },
  {
   "cell_type": "code",
   "execution_count": 35,
   "metadata": {},
   "outputs": [
    {
     "name": "stdout",
     "output_type": "stream",
     "text": [
      "14\n"
     ]
    }
   ],
   "source": [
    "print(len(facility_cost_del))\n",
    "cost_range = 10000000\n",
    "\n",
    "\n",
    "new_ = []\n",
    "for facility in facility_cost_del:\n",
    "  if 'courier' in facility.keys():\n",
    "    courier = facility['courier']\n",
    "    courier, cost = courier.split(' ')\n",
    "    if int(cost) > 0:\n",
    "      facility['courier'] = courier\n",
    "      facility['cost'] = cost\n",
    "      new_.append(facility)"
   ]
  },
  {
   "cell_type": "code",
   "execution_count": 38,
   "metadata": {},
   "outputs": [],
   "source": [
    "lowest_facility = None\n",
    "benchmark = 100000000\n",
    "for n in new_:\n",
    "  if int(n['cost']) < benchmark:\n",
    "    lowest_facility = n\n",
    "    benchmark = int( n['cost'])"
   ]
  },
  {
   "cell_type": "markdown",
   "metadata": {},
   "source": [
    "# My Plan"
   ]
  },
  {
   "cell_type": "code",
   "execution_count": 40,
   "metadata": {},
   "outputs": [
    {
     "data": {
      "text/plain": [
       "{'BranchNumber': '060905',\n",
       " 'CreatedAt': '2023-10-12T07:54:52.341153Z',\n",
       " 'DeletedAt': None,\n",
       " 'FacilityActive': True,\n",
       " 'FacilityAtCapacity': False,\n",
       " 'FacilityCourierCActive': True,\n",
       " 'FacilityBuffer': 1,\n",
       " 'FacilityCoordinates': '0101000020E6100000960A2AAA7E993240897E6DFDF4F340C0',\n",
       " 'FacilityID': '018a9335-7878-7fde-a9fd-57fc82d34963',\n",
       " 'FacilityProvince': 'Western Cape',\n",
       " 'FacilityRegion': 'LOCAL',\n",
       " 'FacilityReservedQty': 25,\n",
       " 'FacilitySKUActive': True,\n",
       " 'FacilitySubType': None,\n",
       " 'FacilityType': 'Store',\n",
       " 'Id': '018b22e1-9a33-7364-8177-56b97367756f',\n",
       " 'NormalisedSku': '06-60107365',\n",
       " 'OnHandQuantity': 3,\n",
       " 'QtyAvailable': 2,\n",
       " 'Sku': '60107365',\n",
       " 'StockSourceUpdatedAt': '2023-12-31T11:53:09Z',\n",
       " 'TradingCompanyNumber': '06',\n",
       " 'UpdatedAt': '2023-12-31T11:53:14.225731Z',\n",
       " 'post_code': '7500',\n",
       " 'distance': 8061.27519644947,\n",
       " '20km': False,\n",
       " 'post_code_lmr': 'local',\n",
       " 'hubid': 'cpt',\n",
       " 'courier': 'courier_c',\n",
       " 'cost': '20'}"
      ]
     },
     "execution_count": 40,
     "metadata": {},
     "output_type": "execute_result"
    }
   ],
   "source": [
    "lowest_facility"
   ]
  },
  {
   "cell_type": "code",
   "execution_count": 39,
   "metadata": {},
   "outputs": [
    {
     "data": {
      "text/plain": [
       "{'allocation_id': '018cd7ee-fab0-77d9-b417-61fd0f96e865',\n",
       " 'cancellations': None,\n",
       " 'created_at': '2024-01-05T04:43:32.448771942Z',\n",
       " 'dry_run': False,\n",
       " 'external_order_reference': 'B4403050-01',\n",
       " 'order_id': 'b3ef66cf-1ee7-5a38-b607-049a1d151e0a',\n",
       " 'reservations': [{'alternative_sku': None,\n",
       "   'alternative_trading_company': None,\n",
       "   'branch_number': '060905',\n",
       "   'courier': 'courier_c',\n",
       "   'created_at': '2024-01-05T04:43:32.443897453Z',\n",
       "   'excluded_branches': None,\n",
       "   'omni_fulfilment_data': {'fulfilment_centre_code': 'STORE',\n",
       "    'fulfilment_centre_description': 'Stores',\n",
       "    'fulfilment_centre_id': 6},\n",
       "   'order_item_id': 'cb47a624-f2c6-5819-8a41-60685135920d',\n",
       "   'previous_reservation_ids': None,\n",
       "   'quantity': 1,\n",
       "   'reservation_id': '018cd7ee-fadb-77d9-acc0-cfc31a879d1c',\n",
       "   'sku': '60107365',\n",
       "   'trading_company_number': '06'}]}"
      ]
     },
     "execution_count": 39,
     "metadata": {},
     "output_type": "execute_result"
    }
   ],
   "source": [
    "plan"
   ]
  },
  {
   "cell_type": "code",
   "execution_count": null,
   "metadata": {},
   "outputs": [],
   "source": []
  }
 ],
 "metadata": {
  "kernelspec": {
   "display_name": "envs",
   "language": "python",
   "name": "python3"
  },
  "language_info": {
   "codemirror_mode": {
    "name": "ipython",
    "version": 3
   },
   "file_extension": ".py",
   "mimetype": "text/x-python",
   "name": "python",
   "nbconvert_exporter": "python",
   "pygments_lexer": "ipython3",
   "version": "3.10.7"
  }
 },
 "nbformat": 4,
 "nbformat_minor": 2
}
